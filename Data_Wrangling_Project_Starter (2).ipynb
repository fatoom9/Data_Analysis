{
 "cells": [
  {
   "cell_type": "markdown",
   "metadata": {
    "id": "GNIwe5N7s0e_"
   },
   "source": [
    "# Real-world Data Wrangling"
   ]
  },
  {
   "cell_type": "markdown",
   "metadata": {
    "id": "_BG63Tpg8ep_"
   },
   "source": [
    "I will apply the skills you acquired in the course to gather and wrangle real-world data with two datasets of My choice.\n",
    "\n",
    "I will retrieve and extract the data, assess the data programmatically and visually, accross elements of data quality and structure, and implement a cleaning strategy for the data. I will then store the updated data into i selected database/data store, combine the data, and answer a research question with the datasets.\n",
    "\n",
    "\n",
    "\n",
    "Before I start, i install the some of the required packages. "
   ]
  },
  {
   "cell_type": "code",
   "execution_count": 1,
   "metadata": {},
   "outputs": [
    {
     "name": "stdout",
     "output_type": "stream",
     "text": [
      "Defaulting to user installation because normal site-packages is not writeable\n",
      "Collecting kaggle==1.6.12\n",
      "  Downloading kaggle-1.6.12.tar.gz (79 kB)\n",
      "\u001b[2K     \u001b[90m━━━━━━━━━━━━━━━━━━━━━━━━━━━━━━━━━━━━━━━━\u001b[0m \u001b[32m79.7/79.7 kB\u001b[0m \u001b[31m1.4 MB/s\u001b[0m eta \u001b[36m0:00:00\u001b[0ma \u001b[36m0:00:01\u001b[0m\n",
      "\u001b[?25h  Preparing metadata (setup.py) ... \u001b[?25ldone\n",
      "\u001b[?25hRequirement already satisfied: six>=1.10 in /opt/conda/lib/python3.10/site-packages (from kaggle==1.6.12) (1.16.0)\n",
      "Collecting certifi>=2023.7.22\n",
      "  Downloading certifi-2024.8.30-py3-none-any.whl (167 kB)\n",
      "\u001b[2K     \u001b[90m━━━━━━━━━━━━━━━━━━━━━━━━━━━━━━━━━━━━━━━\u001b[0m \u001b[32m167.3/167.3 kB\u001b[0m \u001b[31m8.6 MB/s\u001b[0m eta \u001b[36m0:00:00\u001b[0m\n",
      "\u001b[?25hRequirement already satisfied: python-dateutil in /opt/conda/lib/python3.10/site-packages (from kaggle==1.6.12) (2.9.0.post0)\n",
      "Requirement already satisfied: requests in /opt/conda/lib/python3.10/site-packages (from kaggle==1.6.12) (2.29.0)\n",
      "Requirement already satisfied: tqdm in /opt/conda/lib/python3.10/site-packages (from kaggle==1.6.12) (4.65.0)\n",
      "Collecting python-slugify\n",
      "  Downloading python_slugify-8.0.4-py2.py3-none-any.whl (10 kB)\n",
      "Requirement already satisfied: urllib3 in /opt/conda/lib/python3.10/site-packages (from kaggle==1.6.12) (1.26.15)\n",
      "Requirement already satisfied: bleach in /opt/conda/lib/python3.10/site-packages (from kaggle==1.6.12) (6.1.0)\n",
      "Requirement already satisfied: webencodings in /opt/conda/lib/python3.10/site-packages (from bleach->kaggle==1.6.12) (0.5.1)\n",
      "Collecting text-unidecode>=1.3\n",
      "  Downloading text_unidecode-1.3-py2.py3-none-any.whl (78 kB)\n",
      "\u001b[2K     \u001b[90m━━━━━━━━━━━━━━━━━━━━━━━━━━━━━━━━━━━━━━━━\u001b[0m \u001b[32m78.2/78.2 kB\u001b[0m \u001b[31m13.2 MB/s\u001b[0m eta \u001b[36m0:00:00\u001b[0m\n",
      "\u001b[?25hRequirement already satisfied: idna<4,>=2.5 in /opt/conda/lib/python3.10/site-packages (from requests->kaggle==1.6.12) (3.4)\n",
      "Requirement already satisfied: charset-normalizer<4,>=2 in /opt/conda/lib/python3.10/site-packages (from requests->kaggle==1.6.12) (2.0.4)\n",
      "Building wheels for collected packages: kaggle\n",
      "  Building wheel for kaggle (setup.py) ... \u001b[?25ldone\n",
      "\u001b[?25h  Created wheel for kaggle: filename=kaggle-1.6.12-py3-none-any.whl size=102969 sha256=48b2310256bfc384585dee09fe2aace624c8b867815383605ea3d516d8435dd4\n",
      "  Stored in directory: /home/student/.cache/pip/wheels/1e/0b/7c/50f8e89c3d2f82838dbd7afeddffbb9357003009ada98216c7\n",
      "Successfully built kaggle\n",
      "Installing collected packages: text-unidecode, python-slugify, certifi, kaggle\n",
      "\u001b[33m  WARNING: The script slugify is installed in '/home/student/.local/bin' which is not on PATH.\n",
      "  Consider adding this directory to PATH or, if you prefer to suppress this warning, use --no-warn-script-location.\u001b[0m\u001b[33m\n",
      "\u001b[0m\u001b[33m  WARNING: The script kaggle is installed in '/home/student/.local/bin' which is not on PATH.\n",
      "  Consider adding this directory to PATH or, if you prefer to suppress this warning, use --no-warn-script-location.\u001b[0m\u001b[33m\n",
      "\u001b[0mSuccessfully installed certifi-2024.8.30 kaggle-1.6.12 python-slugify-8.0.4 text-unidecode-1.3\n"
     ]
    }
   ],
   "source": [
    "!python -m pip install kaggle==1.6.12"
   ]
  },
  {
   "cell_type": "code",
   "execution_count": 2,
   "metadata": {},
   "outputs": [
    {
     "name": "stdout",
     "output_type": "stream",
     "text": [
      "Collecting ucimlrepo\n",
      "  Downloading ucimlrepo-0.0.7-py3-none-any.whl (8.0 kB)\n",
      "Collecting numpy==1.24.3\n",
      "  Downloading numpy-1.24.3-cp310-cp310-manylinux_2_17_x86_64.manylinux2014_x86_64.whl (17.3 MB)\n",
      "\u001b[2K     \u001b[90m━━━━━━━━━━━━━━━━━━━━━━━━━━━━━━━━━━━━━━━━\u001b[0m \u001b[32m17.3/17.3 MB\u001b[0m \u001b[31m64.3 MB/s\u001b[0m eta \u001b[36m0:00:00\u001b[0m00:01\u001b[0m00:01\u001b[0m\n",
      "\u001b[?25hCollecting pandas>=1.0.0\n",
      "  Downloading pandas-2.2.3-cp310-cp310-manylinux_2_17_x86_64.manylinux2014_x86_64.whl (13.1 MB)\n",
      "\u001b[2K     \u001b[90m━━━━━━━━━━━━━━━━━━━━━━━━━━━━━━━━━━━━━━━━\u001b[0m \u001b[32m13.1/13.1 MB\u001b[0m \u001b[31m77.6 MB/s\u001b[0m eta \u001b[36m0:00:00\u001b[0m00:01\u001b[0m00:01\u001b[0m\n",
      "\u001b[?25hCollecting certifi>=2020.12.5\n",
      "  Using cached certifi-2024.8.30-py3-none-any.whl (167 kB)\n",
      "Collecting tzdata>=2022.7\n",
      "  Downloading tzdata-2024.2-py2.py3-none-any.whl (346 kB)\n",
      "\u001b[2K     \u001b[90m━━━━━━━━━━━━━━━━━━━━━━━━━━━━━━━━━━━━━━\u001b[0m \u001b[32m346.6/346.6 kB\u001b[0m \u001b[31m33.2 MB/s\u001b[0m eta \u001b[36m0:00:00\u001b[0m\n",
      "\u001b[?25hCollecting pytz>=2020.1\n",
      "  Downloading pytz-2024.2-py2.py3-none-any.whl (508 kB)\n",
      "\u001b[2K     \u001b[90m━━━━━━━━━━━━━━━━━━━━━━━━━━━━━━━━━━━━━━\u001b[0m \u001b[32m508.0/508.0 kB\u001b[0m \u001b[31m40.1 MB/s\u001b[0m eta \u001b[36m0:00:00\u001b[0m\n",
      "\u001b[?25hCollecting python-dateutil>=2.8.2\n",
      "  Downloading python_dateutil-2.9.0.post0-py2.py3-none-any.whl (229 kB)\n",
      "\u001b[2K     \u001b[90m━━━━━━━━━━━━━━━━━━━━━━━━━━━━━━━━━━━━━━\u001b[0m \u001b[32m229.9/229.9 kB\u001b[0m \u001b[31m30.8 MB/s\u001b[0m eta \u001b[36m0:00:00\u001b[0m\n",
      "\u001b[?25hCollecting six>=1.5\n",
      "  Downloading six-1.17.0-py2.py3-none-any.whl (11 kB)\n",
      "Installing collected packages: pytz, tzdata, six, numpy, certifi, python-dateutil, pandas, ucimlrepo\n",
      "Successfully installed certifi-2024.8.30 numpy-1.24.3 pandas-2.2.3 python-dateutil-2.9.0.post0 pytz-2024.2 six-1.17.0 tzdata-2024.2 ucimlrepo-0.0.7\n",
      "\u001b[33mWARNING: Target directory /workspace/dateutil already exists. Specify --upgrade to force replacement.\u001b[0m\u001b[33m\n",
      "\u001b[0m\u001b[33mWARNING: Target directory /workspace/ucimlrepo-0.0.7.dist-info already exists. Specify --upgrade to force replacement.\u001b[0m\u001b[33m\n",
      "\u001b[0m\u001b[33mWARNING: Target directory /workspace/certifi-2024.8.30.dist-info already exists. Specify --upgrade to force replacement.\u001b[0m\u001b[33m\n",
      "\u001b[0m\u001b[33mWARNING: Target directory /workspace/tzdata already exists. Specify --upgrade to force replacement.\u001b[0m\u001b[33m\n",
      "\u001b[0m\u001b[33mWARNING: Target directory /workspace/python_dateutil-2.9.0.post0.dist-info already exists. Specify --upgrade to force replacement.\u001b[0m\u001b[33m\n",
      "\u001b[0m\u001b[33mWARNING: Target directory /workspace/pytz-2024.2.dist-info already exists. Specify --upgrade to force replacement.\u001b[0m\u001b[33m\n",
      "\u001b[0m\u001b[33mWARNING: Target directory /workspace/__pycache__ already exists. Specify --upgrade to force replacement.\u001b[0m\u001b[33m\n",
      "\u001b[0m\u001b[33mWARNING: Target directory /workspace/six.py already exists. Specify --upgrade to force replacement.\u001b[0m\u001b[33m\n",
      "\u001b[0m\u001b[33mWARNING: Target directory /workspace/certifi already exists. Specify --upgrade to force replacement.\u001b[0m\u001b[33m\n",
      "\u001b[0m\u001b[33mWARNING: Target directory /workspace/numpy-1.24.3.dist-info already exists. Specify --upgrade to force replacement.\u001b[0m\u001b[33m\n",
      "\u001b[0m\u001b[33mWARNING: Target directory /workspace/ucimlrepo already exists. Specify --upgrade to force replacement.\u001b[0m\u001b[33m\n",
      "\u001b[0m\u001b[33mWARNING: Target directory /workspace/pytz already exists. Specify --upgrade to force replacement.\u001b[0m\u001b[33m\n",
      "\u001b[0m\u001b[33mWARNING: Target directory /workspace/numpy.libs already exists. Specify --upgrade to force replacement.\u001b[0m\u001b[33m\n",
      "\u001b[0m\u001b[33mWARNING: Target directory /workspace/numpy already exists. Specify --upgrade to force replacement.\u001b[0m\u001b[33m\n",
      "\u001b[0m\u001b[33mWARNING: Target directory /workspace/tzdata-2024.2.dist-info already exists. Specify --upgrade to force replacement.\u001b[0m\u001b[33m\n",
      "\u001b[0m\u001b[33mWARNING: Target directory /workspace/pandas already exists. Specify --upgrade to force replacement.\u001b[0m\u001b[33m\n",
      "\u001b[0m\u001b[33mWARNING: Target directory /workspace/pandas-2.2.3.dist-info already exists. Specify --upgrade to force replacement.\u001b[0m\u001b[33m\n",
      "\u001b[0m\u001b[33mWARNING: Target directory /workspace/bin already exists. Specify --upgrade to force replacement.\u001b[0m\u001b[33m\n",
      "\u001b[0m"
     ]
    }
   ],
   "source": [
    "!pip install --target=/workspace ucimlrepo numpy==1.24.3"
   ]
  },
  {
   "cell_type": "markdown",
   "metadata": {},
   "source": [
    "**Note:** Restart the kernel to use updated package(s)."
   ]
  },
  {
   "cell_type": "markdown",
   "metadata": {
    "id": "lDYDkH-Zs7Nn"
   },
   "source": [
    "## 1. Gather data\n"
   ]
  },
  {
   "cell_type": "markdown",
   "metadata": {
    "id": "LbN7z7rcuqpO"
   },
   "source": [
    "### **1.1.** Problem Statement\n",
    "\n",
    "In this project, I aim to analyze the relationship between population density, living conditions (such as income levels and unemployment rates), and their effect on crime rates in different regions. I will gather data from two sources: one will provide crime statistics for New York City (NYC), and the other will provide demographic and socio-economic details for different boroughs in NYC. By merging these datasets, we can examine correlations between these variables.\n",
    "\n"
   ]
  },
  {
   "cell_type": "markdown",
   "metadata": {
    "id": "gi6swhjSYqu2"
   },
   "source": [
    "\n"
   ]
  },
  {
   "cell_type": "markdown",
   "metadata": {
    "id": "8AQfBAdUypMm"
   },
   "source": [
    "### **1.2.** Gather at least two datasets using two different data gathering methods\n",
    "\n"
   ]
  },
  {
   "cell_type": "markdown",
   "metadata": {
    "id": "7e6gS0wL1KTu"
   },
   "source": [
    "\n",
    "\n",
    "### **Dataset 1:** Crime Data in New York City\n",
    "\n",
    "**Type:** CSV File\n",
    "\n",
    "**Method:** Downloaded programmatically from Kaggle using the kagglehub library.\n",
    "\n",
    "**Dataset Variables:**\n",
    "\n",
    "**`BORO_NM:`** The borough where the crime occurred (e.g., Manhattan, Brooklyn).\n",
    "\n",
    "**`OFNS_DESC: `** The description of the offense or crime (e.g., assault, theft, burglary).\n",
    "\n",
    "**`CMPLNT_FR_DT: `** The date when the crime occurred.\n",
    "\n",
    "**`LAW_CAT_CD: `** The classification of the crime (e.g., felony, misdemeanor).\n",
    "\n",
    "**`Latitude and Longitude:`**  Location of the crime.\n",
    "\n",
    "**Reason for Choosing This Dataset:**\n",
    "This dataset provides detailed crime statistics for New York City, including borough names and types of crimes committed. This information is valuable for examining crime rates across different regions and understanding patterns based on location and crime type. The dataset size is also manageable, with fewer than 10,000 rows, making it efficient to analyze\n",
    "\n"
   ]
  },
  {
   "cell_type": "markdown",
   "metadata": {},
   "source": [
    "**Code to Programmatically Download the Dataset:**"
   ]
  },
  {
   "cell_type": "code",
   "execution_count": 2,
   "metadata": {},
   "outputs": [
    {
     "data": {
      "text/html": [
       "<div>\n",
       "<style scoped>\n",
       "    .dataframe tbody tr th:only-of-type {\n",
       "        vertical-align: middle;\n",
       "    }\n",
       "\n",
       "    .dataframe tbody tr th {\n",
       "        vertical-align: top;\n",
       "    }\n",
       "\n",
       "    .dataframe thead th {\n",
       "        text-align: right;\n",
       "    }\n",
       "</style>\n",
       "<table border=\"1\" class=\"dataframe\">\n",
       "  <thead>\n",
       "    <tr style=\"text-align: right;\">\n",
       "      <th></th>\n",
       "      <th>Unnamed: 0</th>\n",
       "      <th>arrest_key</th>\n",
       "      <th>arrest_date</th>\n",
       "      <th>pd_desc</th>\n",
       "      <th>ofns_desc</th>\n",
       "      <th>law_code</th>\n",
       "      <th>law_cat_cd</th>\n",
       "      <th>age_group</th>\n",
       "      <th>perp_sex</th>\n",
       "      <th>perp_race</th>\n",
       "      <th>latitude</th>\n",
       "      <th>longitude</th>\n",
       "      <th>arrest_boro</th>\n",
       "      <th>arrest_precinct</th>\n",
       "      <th>jurisdiction_code</th>\n",
       "      <th>:@computed_region_f5dn_yrer</th>\n",
       "      <th>:@computed_region_yeji_bk3q</th>\n",
       "      <th>:@computed_region_92fq_4b7q</th>\n",
       "      <th>:@computed_region_sbqj_enih</th>\n",
       "    </tr>\n",
       "  </thead>\n",
       "  <tbody>\n",
       "    <tr>\n",
       "      <th>0</th>\n",
       "      <td>0</td>\n",
       "      <td>192799737</td>\n",
       "      <td>2019-01-26</td>\n",
       "      <td>SEXUAL ABUSE</td>\n",
       "      <td>SEX CRIMES</td>\n",
       "      <td>PL 1306503</td>\n",
       "      <td>F</td>\n",
       "      <td>45-64</td>\n",
       "      <td>M</td>\n",
       "      <td>BLACK</td>\n",
       "      <td>40.800694</td>\n",
       "      <td>-73.941109</td>\n",
       "      <td>M</td>\n",
       "      <td>25</td>\n",
       "      <td>0.0</td>\n",
       "      <td>7.0</td>\n",
       "      <td>4.0</td>\n",
       "      <td>36.0</td>\n",
       "      <td>16.0</td>\n",
       "    </tr>\n",
       "    <tr>\n",
       "      <th>1</th>\n",
       "      <td>1</td>\n",
       "      <td>193260691</td>\n",
       "      <td>2019-02-06</td>\n",
       "      <td>CRIMINAL SALE OF A CONTROLLED SUBSTANCE</td>\n",
       "      <td>CONTROLLED SUBSTANCES OFFENSES</td>\n",
       "      <td>PL 2203400</td>\n",
       "      <td>F</td>\n",
       "      <td>25-44</td>\n",
       "      <td>M</td>\n",
       "      <td>UNKNOWN</td>\n",
       "      <td>40.757839</td>\n",
       "      <td>-73.991212</td>\n",
       "      <td>M</td>\n",
       "      <td>14</td>\n",
       "      <td>0.0</td>\n",
       "      <td>12.0</td>\n",
       "      <td>4.0</td>\n",
       "      <td>10.0</td>\n",
       "      <td>8.0</td>\n",
       "    </tr>\n",
       "    <tr>\n",
       "      <th>2</th>\n",
       "      <td>2</td>\n",
       "      <td>149117452</td>\n",
       "      <td>2016-01-06</td>\n",
       "      <td>RAPE 3</td>\n",
       "      <td>RAPE</td>\n",
       "      <td>PL 1302503</td>\n",
       "      <td>F</td>\n",
       "      <td>25-44</td>\n",
       "      <td>M</td>\n",
       "      <td>BLACK</td>\n",
       "      <td>40.648650</td>\n",
       "      <td>-73.950336</td>\n",
       "      <td>K</td>\n",
       "      <td>67</td>\n",
       "      <td>0.0</td>\n",
       "      <td>61.0</td>\n",
       "      <td>2.0</td>\n",
       "      <td>11.0</td>\n",
       "      <td>40.0</td>\n",
       "    </tr>\n",
       "    <tr>\n",
       "      <th>3</th>\n",
       "      <td>3</td>\n",
       "      <td>190049060</td>\n",
       "      <td>2018-11-15</td>\n",
       "      <td>RAPE 1</td>\n",
       "      <td>RAPE</td>\n",
       "      <td>PL 1303501</td>\n",
       "      <td>F</td>\n",
       "      <td>25-44</td>\n",
       "      <td>M</td>\n",
       "      <td>BLACK</td>\n",
       "      <td>40.674583</td>\n",
       "      <td>-73.930222</td>\n",
       "      <td>K</td>\n",
       "      <td>77</td>\n",
       "      <td>0.0</td>\n",
       "      <td>16.0</td>\n",
       "      <td>2.0</td>\n",
       "      <td>49.0</td>\n",
       "      <td>49.0</td>\n",
       "    </tr>\n",
       "    <tr>\n",
       "      <th>4</th>\n",
       "      <td>4</td>\n",
       "      <td>24288194</td>\n",
       "      <td>2006-09-13</td>\n",
       "      <td>TRESPASS 3, CRIMINAL</td>\n",
       "      <td>CRIMINAL TRESPASS</td>\n",
       "      <td>PL 140100E</td>\n",
       "      <td>M</td>\n",
       "      <td>45-64</td>\n",
       "      <td>M</td>\n",
       "      <td>BLACK</td>\n",
       "      <td>40.671254</td>\n",
       "      <td>-73.926714</td>\n",
       "      <td>K</td>\n",
       "      <td>77</td>\n",
       "      <td>2.0</td>\n",
       "      <td>16.0</td>\n",
       "      <td>2.0</td>\n",
       "      <td>49.0</td>\n",
       "      <td>49.0</td>\n",
       "    </tr>\n",
       "  </tbody>\n",
       "</table>\n",
       "</div>"
      ],
      "text/plain": [
       "   Unnamed: 0  arrest_key arrest_date  \\\n",
       "0           0   192799737  2019-01-26   \n",
       "1           1   193260691  2019-02-06   \n",
       "2           2   149117452  2016-01-06   \n",
       "3           3   190049060  2018-11-15   \n",
       "4           4    24288194  2006-09-13   \n",
       "\n",
       "                                   pd_desc                       ofns_desc  \\\n",
       "0                             SEXUAL ABUSE                      SEX CRIMES   \n",
       "1  CRIMINAL SALE OF A CONTROLLED SUBSTANCE  CONTROLLED SUBSTANCES OFFENSES   \n",
       "2                                   RAPE 3                            RAPE   \n",
       "3                                   RAPE 1                            RAPE   \n",
       "4                     TRESPASS 3, CRIMINAL               CRIMINAL TRESPASS   \n",
       "\n",
       "     law_code law_cat_cd age_group perp_sex perp_race   latitude  longitude  \\\n",
       "0  PL 1306503          F     45-64        M     BLACK  40.800694 -73.941109   \n",
       "1  PL 2203400          F     25-44        M   UNKNOWN  40.757839 -73.991212   \n",
       "2  PL 1302503          F     25-44        M     BLACK  40.648650 -73.950336   \n",
       "3  PL 1303501          F     25-44        M     BLACK  40.674583 -73.930222   \n",
       "4  PL 140100E          M     45-64        M     BLACK  40.671254 -73.926714   \n",
       "\n",
       "  arrest_boro  arrest_precinct  jurisdiction_code  \\\n",
       "0           M               25                0.0   \n",
       "1           M               14                0.0   \n",
       "2           K               67                0.0   \n",
       "3           K               77                0.0   \n",
       "4           K               77                2.0   \n",
       "\n",
       "   :@computed_region_f5dn_yrer  :@computed_region_yeji_bk3q  \\\n",
       "0                          7.0                          4.0   \n",
       "1                         12.0                          4.0   \n",
       "2                         61.0                          2.0   \n",
       "3                         16.0                          2.0   \n",
       "4                         16.0                          2.0   \n",
       "\n",
       "   :@computed_region_92fq_4b7q  :@computed_region_sbqj_enih  \n",
       "0                         36.0                         16.0  \n",
       "1                         10.0                          8.0  \n",
       "2                         11.0                         40.0  \n",
       "3                         49.0                         49.0  \n",
       "4                         49.0                         49.0  "
      ]
     },
     "execution_count": 2,
     "metadata": {},
     "output_type": "execute_result"
    }
   ],
   "source": [
    "\n",
    "import pandas as pd\n",
    "\n",
    "# Load the crime data from a manually downloaded CSV file\n",
    "crime_data = pd.read_csv('NYC_crime.csv')\n",
    "\n",
    "# Display the first few rows\n",
    "crime_data.head()\n"
   ]
  },
  {
   "cell_type": "markdown",
   "metadata": {
    "id": "hoUjq1tPzz7P"
   },
   "source": [
    "### **Dataset 2: NYC Socio-Economic Data\n",
    "\n",
    "**Type:** JSON File  \n",
    "**Method:** Collected via an API call to the NYC Open Data API.  \n",
    "\n",
    "**Dataset Variables:**  \n",
    "- **`borough`**: The borough name (e.g., Bronx).  \n",
    "- **`name`**: The name of the neighborhood within the borough.  \n",
    "- **`the_geom`**: The geographical coordinates (longitude and latitude) of the neighborhood.  \n",
    "- **`objectid`**: A unique identifier for each neighborhood.  \n",
    "\n",
    "**Reason for Choosing This Dataset:**  \n",
    "This dataset provides geographic details and information about different boroughs in New York City. These details are useful for analyzing crime rates based on location and comparing crime distribution across neighborhoods.\n",
    "\n"
   ]
  },
  {
   "cell_type": "markdown",
   "metadata": {},
   "source": [
    "***Code to Download the Dataset Using API:***"
   ]
  },
  {
   "cell_type": "code",
   "execution_count": 3,
   "metadata": {},
   "outputs": [
    {
     "name": "stdout",
     "output_type": "stream",
     "text": [
      "                                            the_geom objectid         name  \\\n",
      "0  {'type': 'Point', 'coordinates': [-73.84720052...        1    Wakefield   \n",
      "1  {'type': 'Point', 'coordinates': [-73.82993910...        2   Co-op City   \n",
      "2  {'type': 'Point', 'coordinates': [-73.82780644...        3  Eastchester   \n",
      "3  {'type': 'Point', 'coordinates': [-73.90564259...        4    Fieldston   \n",
      "4  {'type': 'Point', 'coordinates': [-73.91258546...        5    Riverdale   \n",
      "\n",
      "  stacked    annoline1 annoline2 annoline3 annoangle borough  \n",
      "0       1    Wakefield                           0.0   Bronx  \n",
      "1       2        Co-op      City                 0.0   Bronx  \n",
      "2       1  Eastchester                           0.0   Bronx  \n",
      "3       1    Fieldston                           0.0   Bronx  \n",
      "4       1    Riverdale                           0.0   Bronx  \n",
      "Index(['the_geom', 'objectid', 'name', 'stacked', 'annoline1', 'annoline2',\n",
      "       'annoline3', 'annoangle', 'borough'],\n",
      "      dtype='object')\n"
     ]
    }
   ],
   "source": [
    "import requests\n",
    "import pandas as pd\n",
    "\n",
    "# API url\n",
    "api_url = \"https://data.cityofnewyork.us/resource/xyye-rtrs.json\"\n",
    "\n",
    "# get data from API\n",
    "response = requests.get(api_url)\n",
    "\n",
    "# checkout\n",
    "if response.status_code == 200:\n",
    "    socio_economic_data = response.json()\n",
    "    # convert data to data frame\n",
    "    nyc_socio_econ_data = pd.DataFrame(socio_economic_data)\n",
    "    # show first rows\n",
    "    print(nyc_socio_econ_data.head())\n",
    "else:\n",
    "    print(\"Error:\", response.status_code, response.reason)\n",
    "print(nyc_socio_econ_data.columns)\n",
    "\n"
   ]
  },
  {
   "cell_type": "code",
   "execution_count": 4,
   "metadata": {},
   "outputs": [
    {
     "data": {
      "text/html": [
       "<div>\n",
       "<style scoped>\n",
       "    .dataframe tbody tr th:only-of-type {\n",
       "        vertical-align: middle;\n",
       "    }\n",
       "\n",
       "    .dataframe tbody tr th {\n",
       "        vertical-align: top;\n",
       "    }\n",
       "\n",
       "    .dataframe thead th {\n",
       "        text-align: right;\n",
       "    }\n",
       "</style>\n",
       "<table border=\"1\" class=\"dataframe\">\n",
       "  <thead>\n",
       "    <tr style=\"text-align: right;\">\n",
       "      <th></th>\n",
       "      <th>the_geom</th>\n",
       "      <th>objectid</th>\n",
       "      <th>name</th>\n",
       "      <th>stacked</th>\n",
       "      <th>annoline1</th>\n",
       "      <th>annoline2</th>\n",
       "      <th>annoline3</th>\n",
       "      <th>annoangle</th>\n",
       "      <th>borough</th>\n",
       "    </tr>\n",
       "  </thead>\n",
       "  <tbody>\n",
       "    <tr>\n",
       "      <th>0</th>\n",
       "      <td>{'type': 'Point', 'coordinates': [-73.84720052...</td>\n",
       "      <td>1</td>\n",
       "      <td>Wakefield</td>\n",
       "      <td>1</td>\n",
       "      <td>Wakefield</td>\n",
       "      <td></td>\n",
       "      <td></td>\n",
       "      <td>0.0</td>\n",
       "      <td>Bronx</td>\n",
       "    </tr>\n",
       "    <tr>\n",
       "      <th>1</th>\n",
       "      <td>{'type': 'Point', 'coordinates': [-73.82993910...</td>\n",
       "      <td>2</td>\n",
       "      <td>Co-op City</td>\n",
       "      <td>2</td>\n",
       "      <td>Co-op</td>\n",
       "      <td>City</td>\n",
       "      <td></td>\n",
       "      <td>0.0</td>\n",
       "      <td>Bronx</td>\n",
       "    </tr>\n",
       "    <tr>\n",
       "      <th>2</th>\n",
       "      <td>{'type': 'Point', 'coordinates': [-73.82780644...</td>\n",
       "      <td>3</td>\n",
       "      <td>Eastchester</td>\n",
       "      <td>1</td>\n",
       "      <td>Eastchester</td>\n",
       "      <td></td>\n",
       "      <td></td>\n",
       "      <td>0.0</td>\n",
       "      <td>Bronx</td>\n",
       "    </tr>\n",
       "    <tr>\n",
       "      <th>3</th>\n",
       "      <td>{'type': 'Point', 'coordinates': [-73.90564259...</td>\n",
       "      <td>4</td>\n",
       "      <td>Fieldston</td>\n",
       "      <td>1</td>\n",
       "      <td>Fieldston</td>\n",
       "      <td></td>\n",
       "      <td></td>\n",
       "      <td>0.0</td>\n",
       "      <td>Bronx</td>\n",
       "    </tr>\n",
       "    <tr>\n",
       "      <th>4</th>\n",
       "      <td>{'type': 'Point', 'coordinates': [-73.91258546...</td>\n",
       "      <td>5</td>\n",
       "      <td>Riverdale</td>\n",
       "      <td>1</td>\n",
       "      <td>Riverdale</td>\n",
       "      <td></td>\n",
       "      <td></td>\n",
       "      <td>0.0</td>\n",
       "      <td>Bronx</td>\n",
       "    </tr>\n",
       "  </tbody>\n",
       "</table>\n",
       "</div>"
      ],
      "text/plain": [
       "                                            the_geom objectid         name  \\\n",
       "0  {'type': 'Point', 'coordinates': [-73.84720052...        1    Wakefield   \n",
       "1  {'type': 'Point', 'coordinates': [-73.82993910...        2   Co-op City   \n",
       "2  {'type': 'Point', 'coordinates': [-73.82780644...        3  Eastchester   \n",
       "3  {'type': 'Point', 'coordinates': [-73.90564259...        4    Fieldston   \n",
       "4  {'type': 'Point', 'coordinates': [-73.91258546...        5    Riverdale   \n",
       "\n",
       "  stacked    annoline1 annoline2 annoline3 annoangle borough  \n",
       "0       1    Wakefield                           0.0   Bronx  \n",
       "1       2        Co-op      City                 0.0   Bronx  \n",
       "2       1  Eastchester                           0.0   Bronx  \n",
       "3       1    Fieldston                           0.0   Bronx  \n",
       "4       1    Riverdale                           0.0   Bronx  "
      ]
     },
     "execution_count": 4,
     "metadata": {},
     "output_type": "execute_result"
    }
   ],
   "source": [
    "nyc_socio_econ_data.head()"
   ]
  },
  {
   "cell_type": "markdown",
   "metadata": {
    "id": "QwSWIVmotLgV"
   },
   "source": [
    "## 2. Assess data\n",
    "\n",
    "Assess the data according to data quality and tidiness metrics using the report below.\n",
    "\n",
    "List **two** data quality issues and **two** tidiness issues. Assess each data issue visually **and** programmatically, then briefly describe the issue you find.  **Make sure you include justifications for the methods you use for the assessment.**"
   ]
  },
  {
   "cell_type": "markdown",
   "metadata": {
    "id": "adaK2iPNzVu4"
   },
   "source": [
    "### Quality Issue 1: Missing Values in the Crime Dataset"
   ]
  },
  {
   "cell_type": "markdown",
   "metadata": {},
   "source": [
    "**Visual Inspection:**\n",
    "I used the isnull().sum() function to display the number of missing values in each column of the dataset. From the results, we can see that columns like law_cat_cd and :@computed_region_f5dn_yrer have missing values.\n",
    "\n",
    "**Programmatic Inspection:**\n",
    "Using isna().sum(), we found that the column law_cat_cd has 13,360 missing values, in addition to other columns with missing values like :@computed_region_f5dn_yrer."
   ]
  },
  {
   "cell_type": "code",
   "execution_count": 5,
   "metadata": {
    "id": "SpW59kh-zl8d"
   },
   "outputs": [
    {
     "data": {
      "text/plain": [
       "Unnamed: 0                         0\n",
       "arrest_key                         0\n",
       "arrest_date                        0\n",
       "pd_desc                            0\n",
       "ofns_desc                          0\n",
       "law_code                           0\n",
       "law_cat_cd                     13360\n",
       "age_group                          0\n",
       "perp_sex                           0\n",
       "perp_race                          0\n",
       "latitude                           0\n",
       "longitude                          0\n",
       "arrest_boro                        0\n",
       "arrest_precinct                    0\n",
       "jurisdiction_code                  0\n",
       ":@computed_region_f5dn_yrer     5976\n",
       ":@computed_region_yeji_bk3q     5980\n",
       ":@computed_region_92fq_4b7q     5976\n",
       ":@computed_region_sbqj_enih     5977\n",
       "dtype: int64"
      ]
     },
     "execution_count": 5,
     "metadata": {},
     "output_type": "execute_result"
    }
   ],
   "source": [
    "crime_data.isnull().sum()"
   ]
  },
  {
   "cell_type": "code",
   "execution_count": 6,
   "metadata": {
    "id": "-qfcocStzsKg"
   },
   "outputs": [
    {
     "data": {
      "text/plain": [
       "Unnamed: 0                         0\n",
       "arrest_key                         0\n",
       "arrest_date                        0\n",
       "pd_desc                            0\n",
       "ofns_desc                          0\n",
       "law_code                           0\n",
       "law_cat_cd                     13360\n",
       "age_group                          0\n",
       "perp_sex                           0\n",
       "perp_race                          0\n",
       "latitude                           0\n",
       "longitude                          0\n",
       "arrest_boro                        0\n",
       "arrest_precinct                    0\n",
       "jurisdiction_code                  0\n",
       ":@computed_region_f5dn_yrer     5976\n",
       ":@computed_region_yeji_bk3q     5980\n",
       ":@computed_region_92fq_4b7q     5976\n",
       ":@computed_region_sbqj_enih     5977\n",
       "dtype: int64"
      ]
     },
     "execution_count": 6,
     "metadata": {},
     "output_type": "execute_result"
    }
   ],
   "source": [
    "# Check the number of missing values per column\n",
    "crime_data.isna().sum()\n"
   ]
  },
  {
   "cell_type": "markdown",
   "metadata": {},
   "source": [
    "**Issue and Justification:**\n",
    "\n",
    "The missing values in columns such as law_cat_cd can affect the correct classification of crimes, as it represents the legal classification of the offense (e.g., felony, misdemeanor). If these values are missing, it will affect any analysis that relies on crime classification.\n",
    "Other columns with missing values relate to regional or geographical data, which may hinder geographic analysis or any analysis dependent on location.\n",
    "\n",
    "**Recommendations:**\n",
    "\n",
    "To address the missing values, rows with missing data can be either removed, or the missing values can be imputed with a suitable placeholder (e.g., \"Unknown\" for categorical values or the mean/median for numerical values)."
   ]
  },
  {
   "cell_type": "markdown",
   "metadata": {
    "id": "8Be77N4I1AmE"
   },
   "source": [
    "### Quality Issue 2: Duplicated Rows in the Crime Dataset"
   ]
  },
  {
   "cell_type": "markdown",
   "metadata": {},
   "source": [
    "**Visual Inspection:**\n",
    "Visual Inspection: When inspecting the first few rows of the dataset, I initially thought there might be duplicated rows."
   ]
  },
  {
   "cell_type": "code",
   "execution_count": 7,
   "metadata": {
    "id": "iMhHyiyLM2I3"
   },
   "outputs": [
    {
     "data": {
      "text/html": [
       "<div>\n",
       "<style scoped>\n",
       "    .dataframe tbody tr th:only-of-type {\n",
       "        vertical-align: middle;\n",
       "    }\n",
       "\n",
       "    .dataframe tbody tr th {\n",
       "        vertical-align: top;\n",
       "    }\n",
       "\n",
       "    .dataframe thead th {\n",
       "        text-align: right;\n",
       "    }\n",
       "</style>\n",
       "<table border=\"1\" class=\"dataframe\">\n",
       "  <thead>\n",
       "    <tr style=\"text-align: right;\">\n",
       "      <th></th>\n",
       "      <th>Unnamed: 0</th>\n",
       "      <th>arrest_key</th>\n",
       "      <th>arrest_date</th>\n",
       "      <th>pd_desc</th>\n",
       "      <th>ofns_desc</th>\n",
       "      <th>law_code</th>\n",
       "      <th>law_cat_cd</th>\n",
       "      <th>age_group</th>\n",
       "      <th>perp_sex</th>\n",
       "      <th>perp_race</th>\n",
       "      <th>latitude</th>\n",
       "      <th>longitude</th>\n",
       "      <th>arrest_boro</th>\n",
       "      <th>arrest_precinct</th>\n",
       "      <th>jurisdiction_code</th>\n",
       "      <th>:@computed_region_f5dn_yrer</th>\n",
       "      <th>:@computed_region_yeji_bk3q</th>\n",
       "      <th>:@computed_region_92fq_4b7q</th>\n",
       "      <th>:@computed_region_sbqj_enih</th>\n",
       "    </tr>\n",
       "  </thead>\n",
       "  <tbody>\n",
       "    <tr>\n",
       "      <th>0</th>\n",
       "      <td>0</td>\n",
       "      <td>192799737</td>\n",
       "      <td>2019-01-26</td>\n",
       "      <td>SEXUAL ABUSE</td>\n",
       "      <td>SEX CRIMES</td>\n",
       "      <td>PL 1306503</td>\n",
       "      <td>F</td>\n",
       "      <td>45-64</td>\n",
       "      <td>M</td>\n",
       "      <td>BLACK</td>\n",
       "      <td>40.800694</td>\n",
       "      <td>-73.941109</td>\n",
       "      <td>M</td>\n",
       "      <td>25</td>\n",
       "      <td>0.0</td>\n",
       "      <td>7.0</td>\n",
       "      <td>4.0</td>\n",
       "      <td>36.0</td>\n",
       "      <td>16.0</td>\n",
       "    </tr>\n",
       "    <tr>\n",
       "      <th>1</th>\n",
       "      <td>1</td>\n",
       "      <td>193260691</td>\n",
       "      <td>2019-02-06</td>\n",
       "      <td>CRIMINAL SALE OF A CONTROLLED SUBSTANCE</td>\n",
       "      <td>CONTROLLED SUBSTANCES OFFENSES</td>\n",
       "      <td>PL 2203400</td>\n",
       "      <td>F</td>\n",
       "      <td>25-44</td>\n",
       "      <td>M</td>\n",
       "      <td>UNKNOWN</td>\n",
       "      <td>40.757839</td>\n",
       "      <td>-73.991212</td>\n",
       "      <td>M</td>\n",
       "      <td>14</td>\n",
       "      <td>0.0</td>\n",
       "      <td>12.0</td>\n",
       "      <td>4.0</td>\n",
       "      <td>10.0</td>\n",
       "      <td>8.0</td>\n",
       "    </tr>\n",
       "    <tr>\n",
       "      <th>2</th>\n",
       "      <td>2</td>\n",
       "      <td>149117452</td>\n",
       "      <td>2016-01-06</td>\n",
       "      <td>RAPE 3</td>\n",
       "      <td>RAPE</td>\n",
       "      <td>PL 1302503</td>\n",
       "      <td>F</td>\n",
       "      <td>25-44</td>\n",
       "      <td>M</td>\n",
       "      <td>BLACK</td>\n",
       "      <td>40.648650</td>\n",
       "      <td>-73.950336</td>\n",
       "      <td>K</td>\n",
       "      <td>67</td>\n",
       "      <td>0.0</td>\n",
       "      <td>61.0</td>\n",
       "      <td>2.0</td>\n",
       "      <td>11.0</td>\n",
       "      <td>40.0</td>\n",
       "    </tr>\n",
       "    <tr>\n",
       "      <th>3</th>\n",
       "      <td>3</td>\n",
       "      <td>190049060</td>\n",
       "      <td>2018-11-15</td>\n",
       "      <td>RAPE 1</td>\n",
       "      <td>RAPE</td>\n",
       "      <td>PL 1303501</td>\n",
       "      <td>F</td>\n",
       "      <td>25-44</td>\n",
       "      <td>M</td>\n",
       "      <td>BLACK</td>\n",
       "      <td>40.674583</td>\n",
       "      <td>-73.930222</td>\n",
       "      <td>K</td>\n",
       "      <td>77</td>\n",
       "      <td>0.0</td>\n",
       "      <td>16.0</td>\n",
       "      <td>2.0</td>\n",
       "      <td>49.0</td>\n",
       "      <td>49.0</td>\n",
       "    </tr>\n",
       "    <tr>\n",
       "      <th>4</th>\n",
       "      <td>4</td>\n",
       "      <td>24288194</td>\n",
       "      <td>2006-09-13</td>\n",
       "      <td>TRESPASS 3, CRIMINAL</td>\n",
       "      <td>CRIMINAL TRESPASS</td>\n",
       "      <td>PL 140100E</td>\n",
       "      <td>M</td>\n",
       "      <td>45-64</td>\n",
       "      <td>M</td>\n",
       "      <td>BLACK</td>\n",
       "      <td>40.671254</td>\n",
       "      <td>-73.926714</td>\n",
       "      <td>K</td>\n",
       "      <td>77</td>\n",
       "      <td>2.0</td>\n",
       "      <td>16.0</td>\n",
       "      <td>2.0</td>\n",
       "      <td>49.0</td>\n",
       "      <td>49.0</td>\n",
       "    </tr>\n",
       "    <tr>\n",
       "      <th>5</th>\n",
       "      <td>5</td>\n",
       "      <td>189182271</td>\n",
       "      <td>2018-10-24</td>\n",
       "      <td>RAPE 3</td>\n",
       "      <td>RAPE</td>\n",
       "      <td>PL 1302503</td>\n",
       "      <td>F</td>\n",
       "      <td>45-64</td>\n",
       "      <td>M</td>\n",
       "      <td>WHITE HISPANIC</td>\n",
       "      <td>40.716196</td>\n",
       "      <td>-73.997491</td>\n",
       "      <td>M</td>\n",
       "      <td>5</td>\n",
       "      <td>0.0</td>\n",
       "      <td>70.0</td>\n",
       "      <td>4.0</td>\n",
       "      <td>32.0</td>\n",
       "      <td>2.0</td>\n",
       "    </tr>\n",
       "    <tr>\n",
       "      <th>6</th>\n",
       "      <td>6</td>\n",
       "      <td>196324211</td>\n",
       "      <td>2019-04-23</td>\n",
       "      <td>RAPE 1</td>\n",
       "      <td>RAPE</td>\n",
       "      <td>PL 1303501</td>\n",
       "      <td>F</td>\n",
       "      <td>45-64</td>\n",
       "      <td>M</td>\n",
       "      <td>BLACK HISPANIC</td>\n",
       "      <td>40.674583</td>\n",
       "      <td>-73.930222</td>\n",
       "      <td>K</td>\n",
       "      <td>77</td>\n",
       "      <td>0.0</td>\n",
       "      <td>16.0</td>\n",
       "      <td>2.0</td>\n",
       "      <td>49.0</td>\n",
       "      <td>49.0</td>\n",
       "    </tr>\n",
       "    <tr>\n",
       "      <th>7</th>\n",
       "      <td>7</td>\n",
       "      <td>196785901</td>\n",
       "      <td>2019-05-04</td>\n",
       "      <td>SEXUAL ABUSE 3,2</td>\n",
       "      <td>SEX CRIMES</td>\n",
       "      <td>PL 13052A1</td>\n",
       "      <td>M</td>\n",
       "      <td>25-44</td>\n",
       "      <td>M</td>\n",
       "      <td>BLACK</td>\n",
       "      <td>40.883383</td>\n",
       "      <td>-73.902333</td>\n",
       "      <td>B</td>\n",
       "      <td>50</td>\n",
       "      <td>0.0</td>\n",
       "      <td>48.0</td>\n",
       "      <td>5.0</td>\n",
       "      <td>40.0</td>\n",
       "      <td>33.0</td>\n",
       "    </tr>\n",
       "    <tr>\n",
       "      <th>8</th>\n",
       "      <td>8</td>\n",
       "      <td>197554056</td>\n",
       "      <td>2019-05-23</td>\n",
       "      <td>SEXUAL ABUSE 3,2</td>\n",
       "      <td>SEX CRIMES</td>\n",
       "      <td>PL 13052A1</td>\n",
       "      <td>M</td>\n",
       "      <td>45-64</td>\n",
       "      <td>F</td>\n",
       "      <td>BLACK</td>\n",
       "      <td>40.814850</td>\n",
       "      <td>-73.956682</td>\n",
       "      <td>M</td>\n",
       "      <td>26</td>\n",
       "      <td>0.0</td>\n",
       "      <td>37.0</td>\n",
       "      <td>4.0</td>\n",
       "      <td>23.0</td>\n",
       "      <td>17.0</td>\n",
       "    </tr>\n",
       "    <tr>\n",
       "      <th>9</th>\n",
       "      <td>9</td>\n",
       "      <td>189129210</td>\n",
       "      <td>2018-10-23</td>\n",
       "      <td>ASSAULT 3</td>\n",
       "      <td>ASSAULT 3 &amp; RELATED OFFENSES</td>\n",
       "      <td>PL 1200000</td>\n",
       "      <td>M</td>\n",
       "      <td>25-44</td>\n",
       "      <td>M</td>\n",
       "      <td>WHITE HISPANIC</td>\n",
       "      <td>40.764434</td>\n",
       "      <td>-73.988266</td>\n",
       "      <td>M</td>\n",
       "      <td>18</td>\n",
       "      <td>0.0</td>\n",
       "      <td>12.0</td>\n",
       "      <td>4.0</td>\n",
       "      <td>10.0</td>\n",
       "      <td>10.0</td>\n",
       "    </tr>\n",
       "  </tbody>\n",
       "</table>\n",
       "</div>"
      ],
      "text/plain": [
       "   Unnamed: 0  arrest_key arrest_date  \\\n",
       "0           0   192799737  2019-01-26   \n",
       "1           1   193260691  2019-02-06   \n",
       "2           2   149117452  2016-01-06   \n",
       "3           3   190049060  2018-11-15   \n",
       "4           4    24288194  2006-09-13   \n",
       "5           5   189182271  2018-10-24   \n",
       "6           6   196324211  2019-04-23   \n",
       "7           7   196785901  2019-05-04   \n",
       "8           8   197554056  2019-05-23   \n",
       "9           9   189129210  2018-10-23   \n",
       "\n",
       "                                   pd_desc                       ofns_desc  \\\n",
       "0                             SEXUAL ABUSE                      SEX CRIMES   \n",
       "1  CRIMINAL SALE OF A CONTROLLED SUBSTANCE  CONTROLLED SUBSTANCES OFFENSES   \n",
       "2                                   RAPE 3                            RAPE   \n",
       "3                                   RAPE 1                            RAPE   \n",
       "4                     TRESPASS 3, CRIMINAL               CRIMINAL TRESPASS   \n",
       "5                                   RAPE 3                            RAPE   \n",
       "6                                   RAPE 1                            RAPE   \n",
       "7                         SEXUAL ABUSE 3,2                      SEX CRIMES   \n",
       "8                         SEXUAL ABUSE 3,2                      SEX CRIMES   \n",
       "9                                ASSAULT 3    ASSAULT 3 & RELATED OFFENSES   \n",
       "\n",
       "     law_code law_cat_cd age_group perp_sex       perp_race   latitude  \\\n",
       "0  PL 1306503          F     45-64        M           BLACK  40.800694   \n",
       "1  PL 2203400          F     25-44        M         UNKNOWN  40.757839   \n",
       "2  PL 1302503          F     25-44        M           BLACK  40.648650   \n",
       "3  PL 1303501          F     25-44        M           BLACK  40.674583   \n",
       "4  PL 140100E          M     45-64        M           BLACK  40.671254   \n",
       "5  PL 1302503          F     45-64        M  WHITE HISPANIC  40.716196   \n",
       "6  PL 1303501          F     45-64        M  BLACK HISPANIC  40.674583   \n",
       "7  PL 13052A1          M     25-44        M           BLACK  40.883383   \n",
       "8  PL 13052A1          M     45-64        F           BLACK  40.814850   \n",
       "9  PL 1200000          M     25-44        M  WHITE HISPANIC  40.764434   \n",
       "\n",
       "   longitude arrest_boro  arrest_precinct  jurisdiction_code  \\\n",
       "0 -73.941109           M               25                0.0   \n",
       "1 -73.991212           M               14                0.0   \n",
       "2 -73.950336           K               67                0.0   \n",
       "3 -73.930222           K               77                0.0   \n",
       "4 -73.926714           K               77                2.0   \n",
       "5 -73.997491           M                5                0.0   \n",
       "6 -73.930222           K               77                0.0   \n",
       "7 -73.902333           B               50                0.0   \n",
       "8 -73.956682           M               26                0.0   \n",
       "9 -73.988266           M               18                0.0   \n",
       "\n",
       "   :@computed_region_f5dn_yrer  :@computed_region_yeji_bk3q  \\\n",
       "0                          7.0                          4.0   \n",
       "1                         12.0                          4.0   \n",
       "2                         61.0                          2.0   \n",
       "3                         16.0                          2.0   \n",
       "4                         16.0                          2.0   \n",
       "5                         70.0                          4.0   \n",
       "6                         16.0                          2.0   \n",
       "7                         48.0                          5.0   \n",
       "8                         37.0                          4.0   \n",
       "9                         12.0                          4.0   \n",
       "\n",
       "   :@computed_region_92fq_4b7q  :@computed_region_sbqj_enih  \n",
       "0                         36.0                         16.0  \n",
       "1                         10.0                          8.0  \n",
       "2                         11.0                         40.0  \n",
       "3                         49.0                         49.0  \n",
       "4                         49.0                         49.0  \n",
       "5                         32.0                          2.0  \n",
       "6                         49.0                         49.0  \n",
       "7                         40.0                         33.0  \n",
       "8                         23.0                         17.0  \n",
       "9                         10.0                         10.0  "
      ]
     },
     "execution_count": 7,
     "metadata": {},
     "output_type": "execute_result"
    }
   ],
   "source": [
    "\n",
    "crime_data.head(10)\n"
   ]
  },
  {
   "cell_type": "markdown",
   "metadata": {},
   "source": [
    "***The dataset appears to have similar entries, which may lead to the assumption that there are duplicates..***\n"
   ]
  },
  {
   "cell_type": "markdown",
   "metadata": {},
   "source": [
    "**Programmatic Inspection:** However, when running the code to check for duplicates:"
   ]
  },
  {
   "cell_type": "code",
   "execution_count": 8,
   "metadata": {
    "id": "bnviRCUI-bb7"
   },
   "outputs": [
    {
     "data": {
      "text/plain": [
       "0"
      ]
     },
     "execution_count": 8,
     "metadata": {},
     "output_type": "execute_result"
    }
   ],
   "source": [
    "#Programmatic Inspection: Using the following code\n",
    "crime_data.duplicated().sum()\n"
   ]
  },
  {
   "cell_type": "markdown",
   "metadata": {},
   "source": [
    "***The result shows 0, meaning there are no duplicated rows in the dataset.***\n",
    "\n"
   ]
  },
  {
   "cell_type": "markdown",
   "metadata": {},
   "source": [
    "**Issue and Justification:**\n",
    "\n",
    "There are no duplicated rows in the dataset, which means the initial visual assumption was incorrect.\n",
    "Having duplicated rows (if they existed) would lead to biased results in any analysis, distorting statistics related to crime rates, geographic distribution, or other factors.\n",
    "\n",
    "**Recommendations:**\n",
    "\n",
    "Since there are no duplicated rows, there is no immediate need to use the drop_duplicates() function. However, it's always a good practice to regularly check for duplicates in the data before analysis, especially when merging or collecting new datasets.\n"
   ]
  },
  {
   "cell_type": "markdown",
   "metadata": {
    "id": "lXhGiYyiwwKN"
   },
   "source": [
    "### Tidiness Issue 1:  Multiple Variables Stored in One Column\n",
    "\n",
    "\n",
    "\n",
    "\n",
    "\n",
    "\n",
    "\n",
    "\n"
   ]
  },
  {
   "cell_type": "markdown",
   "metadata": {},
   "source": [
    "***Problem:*** \n",
    "Some columns like pd_desc (precinct description) and ofns_desc (offense description) contain multiple pieces of information in a single cell (e.g., \"ASSAULT 3, CRIMINAL\" in pd_desc). This violates the tidiness principle where each column should store one variable."
   ]
  },
  {
   "cell_type": "markdown",
   "metadata": {},
   "source": [
    "**Visual Inspection:**\n",
    "By inspecting the dataframe visually, we can observe that some columns store multiple pieces of information in a single field. For example, in the pd_desc and ofns_desc columns, there might be multiple offense types listed together in a single cell.\n"
   ]
  },
  {
   "cell_type": "code",
   "execution_count": 9,
   "metadata": {},
   "outputs": [
    {
     "data": {
      "text/html": [
       "<div>\n",
       "<style scoped>\n",
       "    .dataframe tbody tr th:only-of-type {\n",
       "        vertical-align: middle;\n",
       "    }\n",
       "\n",
       "    .dataframe tbody tr th {\n",
       "        vertical-align: top;\n",
       "    }\n",
       "\n",
       "    .dataframe thead th {\n",
       "        text-align: right;\n",
       "    }\n",
       "</style>\n",
       "<table border=\"1\" class=\"dataframe\">\n",
       "  <thead>\n",
       "    <tr style=\"text-align: right;\">\n",
       "      <th></th>\n",
       "      <th>Unnamed: 0</th>\n",
       "      <th>arrest_key</th>\n",
       "      <th>arrest_date</th>\n",
       "      <th>pd_desc</th>\n",
       "      <th>ofns_desc</th>\n",
       "      <th>law_code</th>\n",
       "      <th>law_cat_cd</th>\n",
       "      <th>age_group</th>\n",
       "      <th>perp_sex</th>\n",
       "      <th>perp_race</th>\n",
       "      <th>latitude</th>\n",
       "      <th>longitude</th>\n",
       "      <th>arrest_boro</th>\n",
       "      <th>arrest_precinct</th>\n",
       "      <th>jurisdiction_code</th>\n",
       "      <th>:@computed_region_f5dn_yrer</th>\n",
       "      <th>:@computed_region_yeji_bk3q</th>\n",
       "      <th>:@computed_region_92fq_4b7q</th>\n",
       "      <th>:@computed_region_sbqj_enih</th>\n",
       "    </tr>\n",
       "  </thead>\n",
       "  <tbody>\n",
       "    <tr>\n",
       "      <th>0</th>\n",
       "      <td>0</td>\n",
       "      <td>192799737</td>\n",
       "      <td>2019-01-26</td>\n",
       "      <td>SEXUAL ABUSE</td>\n",
       "      <td>SEX CRIMES</td>\n",
       "      <td>PL 1306503</td>\n",
       "      <td>F</td>\n",
       "      <td>45-64</td>\n",
       "      <td>M</td>\n",
       "      <td>BLACK</td>\n",
       "      <td>40.800694</td>\n",
       "      <td>-73.941109</td>\n",
       "      <td>M</td>\n",
       "      <td>25</td>\n",
       "      <td>0.0</td>\n",
       "      <td>7.0</td>\n",
       "      <td>4.0</td>\n",
       "      <td>36.0</td>\n",
       "      <td>16.0</td>\n",
       "    </tr>\n",
       "    <tr>\n",
       "      <th>1</th>\n",
       "      <td>1</td>\n",
       "      <td>193260691</td>\n",
       "      <td>2019-02-06</td>\n",
       "      <td>CRIMINAL SALE OF A CONTROLLED SUBSTANCE</td>\n",
       "      <td>CONTROLLED SUBSTANCES OFFENSES</td>\n",
       "      <td>PL 2203400</td>\n",
       "      <td>F</td>\n",
       "      <td>25-44</td>\n",
       "      <td>M</td>\n",
       "      <td>UNKNOWN</td>\n",
       "      <td>40.757839</td>\n",
       "      <td>-73.991212</td>\n",
       "      <td>M</td>\n",
       "      <td>14</td>\n",
       "      <td>0.0</td>\n",
       "      <td>12.0</td>\n",
       "      <td>4.0</td>\n",
       "      <td>10.0</td>\n",
       "      <td>8.0</td>\n",
       "    </tr>\n",
       "    <tr>\n",
       "      <th>2</th>\n",
       "      <td>2</td>\n",
       "      <td>149117452</td>\n",
       "      <td>2016-01-06</td>\n",
       "      <td>RAPE 3</td>\n",
       "      <td>RAPE</td>\n",
       "      <td>PL 1302503</td>\n",
       "      <td>F</td>\n",
       "      <td>25-44</td>\n",
       "      <td>M</td>\n",
       "      <td>BLACK</td>\n",
       "      <td>40.648650</td>\n",
       "      <td>-73.950336</td>\n",
       "      <td>K</td>\n",
       "      <td>67</td>\n",
       "      <td>0.0</td>\n",
       "      <td>61.0</td>\n",
       "      <td>2.0</td>\n",
       "      <td>11.0</td>\n",
       "      <td>40.0</td>\n",
       "    </tr>\n",
       "    <tr>\n",
       "      <th>3</th>\n",
       "      <td>3</td>\n",
       "      <td>190049060</td>\n",
       "      <td>2018-11-15</td>\n",
       "      <td>RAPE 1</td>\n",
       "      <td>RAPE</td>\n",
       "      <td>PL 1303501</td>\n",
       "      <td>F</td>\n",
       "      <td>25-44</td>\n",
       "      <td>M</td>\n",
       "      <td>BLACK</td>\n",
       "      <td>40.674583</td>\n",
       "      <td>-73.930222</td>\n",
       "      <td>K</td>\n",
       "      <td>77</td>\n",
       "      <td>0.0</td>\n",
       "      <td>16.0</td>\n",
       "      <td>2.0</td>\n",
       "      <td>49.0</td>\n",
       "      <td>49.0</td>\n",
       "    </tr>\n",
       "    <tr>\n",
       "      <th>4</th>\n",
       "      <td>4</td>\n",
       "      <td>24288194</td>\n",
       "      <td>2006-09-13</td>\n",
       "      <td>TRESPASS 3, CRIMINAL</td>\n",
       "      <td>CRIMINAL TRESPASS</td>\n",
       "      <td>PL 140100E</td>\n",
       "      <td>M</td>\n",
       "      <td>45-64</td>\n",
       "      <td>M</td>\n",
       "      <td>BLACK</td>\n",
       "      <td>40.671254</td>\n",
       "      <td>-73.926714</td>\n",
       "      <td>K</td>\n",
       "      <td>77</td>\n",
       "      <td>2.0</td>\n",
       "      <td>16.0</td>\n",
       "      <td>2.0</td>\n",
       "      <td>49.0</td>\n",
       "      <td>49.0</td>\n",
       "    </tr>\n",
       "    <tr>\n",
       "      <th>5</th>\n",
       "      <td>5</td>\n",
       "      <td>189182271</td>\n",
       "      <td>2018-10-24</td>\n",
       "      <td>RAPE 3</td>\n",
       "      <td>RAPE</td>\n",
       "      <td>PL 1302503</td>\n",
       "      <td>F</td>\n",
       "      <td>45-64</td>\n",
       "      <td>M</td>\n",
       "      <td>WHITE HISPANIC</td>\n",
       "      <td>40.716196</td>\n",
       "      <td>-73.997491</td>\n",
       "      <td>M</td>\n",
       "      <td>5</td>\n",
       "      <td>0.0</td>\n",
       "      <td>70.0</td>\n",
       "      <td>4.0</td>\n",
       "      <td>32.0</td>\n",
       "      <td>2.0</td>\n",
       "    </tr>\n",
       "    <tr>\n",
       "      <th>6</th>\n",
       "      <td>6</td>\n",
       "      <td>196324211</td>\n",
       "      <td>2019-04-23</td>\n",
       "      <td>RAPE 1</td>\n",
       "      <td>RAPE</td>\n",
       "      <td>PL 1303501</td>\n",
       "      <td>F</td>\n",
       "      <td>45-64</td>\n",
       "      <td>M</td>\n",
       "      <td>BLACK HISPANIC</td>\n",
       "      <td>40.674583</td>\n",
       "      <td>-73.930222</td>\n",
       "      <td>K</td>\n",
       "      <td>77</td>\n",
       "      <td>0.0</td>\n",
       "      <td>16.0</td>\n",
       "      <td>2.0</td>\n",
       "      <td>49.0</td>\n",
       "      <td>49.0</td>\n",
       "    </tr>\n",
       "    <tr>\n",
       "      <th>7</th>\n",
       "      <td>7</td>\n",
       "      <td>196785901</td>\n",
       "      <td>2019-05-04</td>\n",
       "      <td>SEXUAL ABUSE 3,2</td>\n",
       "      <td>SEX CRIMES</td>\n",
       "      <td>PL 13052A1</td>\n",
       "      <td>M</td>\n",
       "      <td>25-44</td>\n",
       "      <td>M</td>\n",
       "      <td>BLACK</td>\n",
       "      <td>40.883383</td>\n",
       "      <td>-73.902333</td>\n",
       "      <td>B</td>\n",
       "      <td>50</td>\n",
       "      <td>0.0</td>\n",
       "      <td>48.0</td>\n",
       "      <td>5.0</td>\n",
       "      <td>40.0</td>\n",
       "      <td>33.0</td>\n",
       "    </tr>\n",
       "    <tr>\n",
       "      <th>8</th>\n",
       "      <td>8</td>\n",
       "      <td>197554056</td>\n",
       "      <td>2019-05-23</td>\n",
       "      <td>SEXUAL ABUSE 3,2</td>\n",
       "      <td>SEX CRIMES</td>\n",
       "      <td>PL 13052A1</td>\n",
       "      <td>M</td>\n",
       "      <td>45-64</td>\n",
       "      <td>F</td>\n",
       "      <td>BLACK</td>\n",
       "      <td>40.814850</td>\n",
       "      <td>-73.956682</td>\n",
       "      <td>M</td>\n",
       "      <td>26</td>\n",
       "      <td>0.0</td>\n",
       "      <td>37.0</td>\n",
       "      <td>4.0</td>\n",
       "      <td>23.0</td>\n",
       "      <td>17.0</td>\n",
       "    </tr>\n",
       "    <tr>\n",
       "      <th>9</th>\n",
       "      <td>9</td>\n",
       "      <td>189129210</td>\n",
       "      <td>2018-10-23</td>\n",
       "      <td>ASSAULT 3</td>\n",
       "      <td>ASSAULT 3 &amp; RELATED OFFENSES</td>\n",
       "      <td>PL 1200000</td>\n",
       "      <td>M</td>\n",
       "      <td>25-44</td>\n",
       "      <td>M</td>\n",
       "      <td>WHITE HISPANIC</td>\n",
       "      <td>40.764434</td>\n",
       "      <td>-73.988266</td>\n",
       "      <td>M</td>\n",
       "      <td>18</td>\n",
       "      <td>0.0</td>\n",
       "      <td>12.0</td>\n",
       "      <td>4.0</td>\n",
       "      <td>10.0</td>\n",
       "      <td>10.0</td>\n",
       "    </tr>\n",
       "  </tbody>\n",
       "</table>\n",
       "</div>"
      ],
      "text/plain": [
       "   Unnamed: 0  arrest_key arrest_date  \\\n",
       "0           0   192799737  2019-01-26   \n",
       "1           1   193260691  2019-02-06   \n",
       "2           2   149117452  2016-01-06   \n",
       "3           3   190049060  2018-11-15   \n",
       "4           4    24288194  2006-09-13   \n",
       "5           5   189182271  2018-10-24   \n",
       "6           6   196324211  2019-04-23   \n",
       "7           7   196785901  2019-05-04   \n",
       "8           8   197554056  2019-05-23   \n",
       "9           9   189129210  2018-10-23   \n",
       "\n",
       "                                   pd_desc                       ofns_desc  \\\n",
       "0                             SEXUAL ABUSE                      SEX CRIMES   \n",
       "1  CRIMINAL SALE OF A CONTROLLED SUBSTANCE  CONTROLLED SUBSTANCES OFFENSES   \n",
       "2                                   RAPE 3                            RAPE   \n",
       "3                                   RAPE 1                            RAPE   \n",
       "4                     TRESPASS 3, CRIMINAL               CRIMINAL TRESPASS   \n",
       "5                                   RAPE 3                            RAPE   \n",
       "6                                   RAPE 1                            RAPE   \n",
       "7                         SEXUAL ABUSE 3,2                      SEX CRIMES   \n",
       "8                         SEXUAL ABUSE 3,2                      SEX CRIMES   \n",
       "9                                ASSAULT 3    ASSAULT 3 & RELATED OFFENSES   \n",
       "\n",
       "     law_code law_cat_cd age_group perp_sex       perp_race   latitude  \\\n",
       "0  PL 1306503          F     45-64        M           BLACK  40.800694   \n",
       "1  PL 2203400          F     25-44        M         UNKNOWN  40.757839   \n",
       "2  PL 1302503          F     25-44        M           BLACK  40.648650   \n",
       "3  PL 1303501          F     25-44        M           BLACK  40.674583   \n",
       "4  PL 140100E          M     45-64        M           BLACK  40.671254   \n",
       "5  PL 1302503          F     45-64        M  WHITE HISPANIC  40.716196   \n",
       "6  PL 1303501          F     45-64        M  BLACK HISPANIC  40.674583   \n",
       "7  PL 13052A1          M     25-44        M           BLACK  40.883383   \n",
       "8  PL 13052A1          M     45-64        F           BLACK  40.814850   \n",
       "9  PL 1200000          M     25-44        M  WHITE HISPANIC  40.764434   \n",
       "\n",
       "   longitude arrest_boro  arrest_precinct  jurisdiction_code  \\\n",
       "0 -73.941109           M               25                0.0   \n",
       "1 -73.991212           M               14                0.0   \n",
       "2 -73.950336           K               67                0.0   \n",
       "3 -73.930222           K               77                0.0   \n",
       "4 -73.926714           K               77                2.0   \n",
       "5 -73.997491           M                5                0.0   \n",
       "6 -73.930222           K               77                0.0   \n",
       "7 -73.902333           B               50                0.0   \n",
       "8 -73.956682           M               26                0.0   \n",
       "9 -73.988266           M               18                0.0   \n",
       "\n",
       "   :@computed_region_f5dn_yrer  :@computed_region_yeji_bk3q  \\\n",
       "0                          7.0                          4.0   \n",
       "1                         12.0                          4.0   \n",
       "2                         61.0                          2.0   \n",
       "3                         16.0                          2.0   \n",
       "4                         16.0                          2.0   \n",
       "5                         70.0                          4.0   \n",
       "6                         16.0                          2.0   \n",
       "7                         48.0                          5.0   \n",
       "8                         37.0                          4.0   \n",
       "9                         12.0                          4.0   \n",
       "\n",
       "   :@computed_region_92fq_4b7q  :@computed_region_sbqj_enih  \n",
       "0                         36.0                         16.0  \n",
       "1                         10.0                          8.0  \n",
       "2                         11.0                         40.0  \n",
       "3                         49.0                         49.0  \n",
       "4                         49.0                         49.0  \n",
       "5                         32.0                          2.0  \n",
       "6                         49.0                         49.0  \n",
       "7                         40.0                         33.0  \n",
       "8                         23.0                         17.0  \n",
       "9                         10.0                         10.0  "
      ]
     },
     "execution_count": 9,
     "metadata": {},
     "output_type": "execute_result"
    }
   ],
   "source": [
    "crime_data.head(10)"
   ]
  },
  {
   "cell_type": "markdown",
   "metadata": {},
   "source": [
    "Upon visual inspection, you might notice that some of the descriptions in pd_desc or ofns_desc are complex or have more than one piece of information in them.\n"
   ]
  },
  {
   "cell_type": "markdown",
   "metadata": {},
   "source": [
    "**Programmatic Inspection:**\n",
    "You can also inspect the unique values in these columns to check if there are multiple offenses stored in a single cell.\n"
   ]
  },
  {
   "cell_type": "code",
   "execution_count": 10,
   "metadata": {
    "id": "fleC5rORI0Xl"
   },
   "outputs": [
    {
     "data": {
      "text/plain": [
       "array(['SEX CRIMES', 'CONTROLLED SUBSTANCES OFFENSES', 'RAPE',\n",
       "       'CRIMINAL TRESPASS', 'ASSAULT 3 & RELATED OFFENSES', 'THEFT',\n",
       "       'FELONY ASSAULT', 'PROSTITUTION & RELATED OFFENSES',\n",
       "       'DANGEROUS WEAPONS', 'MISCELLANEOUS PENAL LAW', 'DANGEROUS DRUGS',\n",
       "       'FRAUDS', 'POSSESSION OF STOLEN PROPERTY 5', 'FORGERY', 'BURGLARY',\n",
       "       'ROBBERY', 'FORCIBLE TOUCHING', 'OFFENSES INVOLVING FRAUD',\n",
       "       'TERRORISM', 'ARSON', 'LARCENY', 'SEX OFFENSES', 'THEFT-FRAUD',\n",
       "       'OTHER STATE LAWS', 'OFF. AGNST PUB ORD SENSBLTY & RGHTS TO PRIV',\n",
       "       'F.C.A. P.I.N.O.S.', 'ASSAULT', 'OFFENSES AGAINST THE PERSON',\n",
       "       'PROSTITUTION OFFENSES', 'FIREARMS AND OTHER DANGEROUS WEAPONS',\n",
       "       'OFFENSES AGAINST PUBLIC ADMINISTRATION',\n",
       "       'VEHICLE AND TRAFFIC LAWS', 'OTHER OFFENSES RELATED TO THEFT',\n",
       "       'DISORDERLY CONDUCT', 'GRAND LARCENY', 'PETIT LARCENY',\n",
       "       'OTHER TRAFFIC INFRACTION', \"BURGLAR'S TOOLS\",\n",
       "       'OTHER STATE LAWS (NON PENAL LAW)',\n",
       "       'INTOXICATED & IMPAIRED DRIVING', 'CRIMINAL MISCHIEF & RELATED OF',\n",
       "       'OTHER OFFENSES RELATED TO THEF', 'POSSESSION OF STOLEN PROPERTY',\n",
       "       'OFF. AGNST PUB ORD SENSBLTY &', 'OFFENSES AGAINST PUBLIC ADMINI',\n",
       "       'NYS LAWS-UNCLASSIFIED FELONY', 'FOR OTHER AUTHORITIES',\n",
       "       'UNAUTHORIZED USE OF A VEHICLE', 'GAMBLING',\n",
       "       'OTHER STATE LAWS (NON PENAL LA', 'MURDER & NON-NEGL. MANSLAUGHTE',\n",
       "       'GRAND LARCENY OF MOTOR VEHICLE', 'ADMINISTRATIVE CODE',\n",
       "       'ENDAN WELFARE INCOMP', 'INTOXICATED/IMPAIRED DRIVING',\n",
       "       'LOITERING FOR DRUG PURPOSES', 'ALCOHOLIC BEVERAGE CONTROL LAW',\n",
       "       'KIDNAPPING & RELATED OFFENSES', 'FRAUDULENT ACCOSTING',\n",
       "       'OFFENSES RELATED TO CHILDREN', 'MOVING INFRACTIONS', 'ESCAPE 3',\n",
       "       'HARRASSMENT 2', 'OFFENSES AGAINST PUBLIC SAFETY',\n",
       "       'AGRICULTURE & MRKTS LAW-UNCLASSIFIED', 'JOSTLING',\n",
       "       'MURDER & NON-NEGL. MANSLAUGHTER', 'CHILD ABANDONMENT/NON SUPPORT',\n",
       "       'NEW YORK CITY HEALTH CODE',\n",
       "       'CRIMINAL MISCHIEF & RELATED OFFENSES',\n",
       "       'LOITERING/GAMBLING (CARDS, DIC', 'OBSTRUCTION OF PUBLIC SERVANTS',\n",
       "       'ANTICIPATORY OFFENSES', 'PARKING OFFENSES',\n",
       "       'KIDNAPPING, COERCION', 'HOMICIDE-NEGLIGENT,UNCLASSIFIE',\n",
       "       'ADMINISTRATIVE CODES', 'KIDNAPPING', 'MONEY LAUNDERING',\n",
       "       'DISRUPTION OF A RELIGIOUS SERV', 'HOMICIDE-NEGLIGENT-VEHICLE',\n",
       "       'NYS LAWS-UNCLASSIFIED VIOLATION', 'HARASSMENT', 'LOITERING',\n",
       "       'HOMICIDE', 'UNAUTHORIZED USE OF A VEHICLE 3 (UUV)',\n",
       "       'HOMICIDE-NEGLIGENT,UNCLASSIFIED', 'ABORTION',\n",
       "       'CHILD ABANDONMENT/NON SUPPORT 1',\n",
       "       'DISRUPTION OF A RELIGIOUS SERVICE', 'GAMBLING OFFENSES',\n",
       "       'LOITERING/GAMBLING (CARDS, DICE, ETC)',\n",
       "       'UNLAWFUL POSS. WEAP. ON SCHOOL GROUNDS',\n",
       "       'OFFENSES AGAINST PUBLIC ORDER',\n",
       "       'OFFENSES AGAINST SERVICE ANIMALS', 'OTHER PUBLIC SAFETY OFFENSES',\n",
       "       'UNDER THE INFLUENCE, DRUGS', 'FORTUNE TELLING',\n",
       "       'LOITERING,BEGGING'], dtype=object)"
      ]
     },
     "execution_count": 10,
     "metadata": {},
     "output_type": "execute_result"
    }
   ],
   "source": [
    "crime_data['pd_desc'].unique()\n",
    "crime_data['ofns_desc'].unique()"
   ]
  },
  {
   "cell_type": "markdown",
   "metadata": {
    "id": "BTuQw7Rbsio4"
   },
   "source": [
    "\n",
    "**Issue and Justification:**\n",
    "\n",
    "**Justification:** \n",
    "Having multiple pieces of information in a single column makes the dataset less tidy, complicating analysis. For example, it becomes difficult to filter or analyze individual offense types or precincts if they are combined in one column.\n",
    "Recommendation: Split the values in pd_desc and ofns_desc into separate columns based on the offense type or precinct details. This can be done using str.split() in pandas to create a more structured, tidier dataset.\n",
    "\n",
    "**Issue:**\n",
    "The pd_desc (precinct description) and ofns_desc (offense description) columns seem to contain multiple pieces of information (e.g., \"ASSAULT 3, CRIMINAL\" in pd_desc), which violates the tidiness principle where each column should contain one variable.\n",
    "Justification: Storing multiple pieces of information in a single column makes the dataset less tidy and harder to analyze. This will complicate analysis, as we cannot easily filter or analyze individual offense types or precincts if they are combined in a single column.\n",
    "\n",
    "**Recommendations:**\n",
    "Split the values in pd_desc and ofns_desc into separate columns based on offense type or precinct details, depending on the dataset’s structure. Use the str.split() method in pandas to break these columns into more structured fields, which will make the dataset more tidily formatted for analysis."
   ]
  },
  {
   "cell_type": "markdown",
   "metadata": {
    "id": "4ffMoRGSwzYj"
   },
   "source": [
    "### Tidiness Issue 2:  Unnecessary Columns\n",
    "\n",
    "\n",
    "\n"
   ]
  },
  {
   "cell_type": "markdown",
   "metadata": {},
   "source": [
    "**Problem:**\n",
    "Some columns, such as Unnamed: 0, seem to be index columns that do not contribute to the analysis."
   ]
  },
  {
   "cell_type": "markdown",
   "metadata": {},
   "source": [
    "**Visual Inspection:**\n",
    "By inspecting the dataframe, there are some columns that seem to contain redundant or unnecessary data. For instance, columns like Unnamed: 0 appear to be index columns, which do not contribute to the analysis.\n"
   ]
  },
  {
   "cell_type": "code",
   "execution_count": 11,
   "metadata": {
    "id": "XUpeoqokw5Qt"
   },
   "outputs": [
    {
     "data": {
      "text/html": [
       "<div>\n",
       "<style scoped>\n",
       "    .dataframe tbody tr th:only-of-type {\n",
       "        vertical-align: middle;\n",
       "    }\n",
       "\n",
       "    .dataframe tbody tr th {\n",
       "        vertical-align: top;\n",
       "    }\n",
       "\n",
       "    .dataframe thead th {\n",
       "        text-align: right;\n",
       "    }\n",
       "</style>\n",
       "<table border=\"1\" class=\"dataframe\">\n",
       "  <thead>\n",
       "    <tr style=\"text-align: right;\">\n",
       "      <th></th>\n",
       "      <th>Unnamed: 0</th>\n",
       "      <th>arrest_key</th>\n",
       "      <th>arrest_date</th>\n",
       "      <th>pd_desc</th>\n",
       "      <th>ofns_desc</th>\n",
       "      <th>law_code</th>\n",
       "      <th>law_cat_cd</th>\n",
       "      <th>age_group</th>\n",
       "      <th>perp_sex</th>\n",
       "      <th>perp_race</th>\n",
       "      <th>latitude</th>\n",
       "      <th>longitude</th>\n",
       "      <th>arrest_boro</th>\n",
       "      <th>arrest_precinct</th>\n",
       "      <th>jurisdiction_code</th>\n",
       "      <th>:@computed_region_f5dn_yrer</th>\n",
       "      <th>:@computed_region_yeji_bk3q</th>\n",
       "      <th>:@computed_region_92fq_4b7q</th>\n",
       "      <th>:@computed_region_sbqj_enih</th>\n",
       "    </tr>\n",
       "  </thead>\n",
       "  <tbody>\n",
       "    <tr>\n",
       "      <th>0</th>\n",
       "      <td>0</td>\n",
       "      <td>192799737</td>\n",
       "      <td>2019-01-26</td>\n",
       "      <td>SEXUAL ABUSE</td>\n",
       "      <td>SEX CRIMES</td>\n",
       "      <td>PL 1306503</td>\n",
       "      <td>F</td>\n",
       "      <td>45-64</td>\n",
       "      <td>M</td>\n",
       "      <td>BLACK</td>\n",
       "      <td>40.800694</td>\n",
       "      <td>-73.941109</td>\n",
       "      <td>M</td>\n",
       "      <td>25</td>\n",
       "      <td>0.0</td>\n",
       "      <td>7.0</td>\n",
       "      <td>4.0</td>\n",
       "      <td>36.0</td>\n",
       "      <td>16.0</td>\n",
       "    </tr>\n",
       "    <tr>\n",
       "      <th>1</th>\n",
       "      <td>1</td>\n",
       "      <td>193260691</td>\n",
       "      <td>2019-02-06</td>\n",
       "      <td>CRIMINAL SALE OF A CONTROLLED SUBSTANCE</td>\n",
       "      <td>CONTROLLED SUBSTANCES OFFENSES</td>\n",
       "      <td>PL 2203400</td>\n",
       "      <td>F</td>\n",
       "      <td>25-44</td>\n",
       "      <td>M</td>\n",
       "      <td>UNKNOWN</td>\n",
       "      <td>40.757839</td>\n",
       "      <td>-73.991212</td>\n",
       "      <td>M</td>\n",
       "      <td>14</td>\n",
       "      <td>0.0</td>\n",
       "      <td>12.0</td>\n",
       "      <td>4.0</td>\n",
       "      <td>10.0</td>\n",
       "      <td>8.0</td>\n",
       "    </tr>\n",
       "    <tr>\n",
       "      <th>2</th>\n",
       "      <td>2</td>\n",
       "      <td>149117452</td>\n",
       "      <td>2016-01-06</td>\n",
       "      <td>RAPE 3</td>\n",
       "      <td>RAPE</td>\n",
       "      <td>PL 1302503</td>\n",
       "      <td>F</td>\n",
       "      <td>25-44</td>\n",
       "      <td>M</td>\n",
       "      <td>BLACK</td>\n",
       "      <td>40.648650</td>\n",
       "      <td>-73.950336</td>\n",
       "      <td>K</td>\n",
       "      <td>67</td>\n",
       "      <td>0.0</td>\n",
       "      <td>61.0</td>\n",
       "      <td>2.0</td>\n",
       "      <td>11.0</td>\n",
       "      <td>40.0</td>\n",
       "    </tr>\n",
       "    <tr>\n",
       "      <th>3</th>\n",
       "      <td>3</td>\n",
       "      <td>190049060</td>\n",
       "      <td>2018-11-15</td>\n",
       "      <td>RAPE 1</td>\n",
       "      <td>RAPE</td>\n",
       "      <td>PL 1303501</td>\n",
       "      <td>F</td>\n",
       "      <td>25-44</td>\n",
       "      <td>M</td>\n",
       "      <td>BLACK</td>\n",
       "      <td>40.674583</td>\n",
       "      <td>-73.930222</td>\n",
       "      <td>K</td>\n",
       "      <td>77</td>\n",
       "      <td>0.0</td>\n",
       "      <td>16.0</td>\n",
       "      <td>2.0</td>\n",
       "      <td>49.0</td>\n",
       "      <td>49.0</td>\n",
       "    </tr>\n",
       "    <tr>\n",
       "      <th>4</th>\n",
       "      <td>4</td>\n",
       "      <td>24288194</td>\n",
       "      <td>2006-09-13</td>\n",
       "      <td>TRESPASS 3, CRIMINAL</td>\n",
       "      <td>CRIMINAL TRESPASS</td>\n",
       "      <td>PL 140100E</td>\n",
       "      <td>M</td>\n",
       "      <td>45-64</td>\n",
       "      <td>M</td>\n",
       "      <td>BLACK</td>\n",
       "      <td>40.671254</td>\n",
       "      <td>-73.926714</td>\n",
       "      <td>K</td>\n",
       "      <td>77</td>\n",
       "      <td>2.0</td>\n",
       "      <td>16.0</td>\n",
       "      <td>2.0</td>\n",
       "      <td>49.0</td>\n",
       "      <td>49.0</td>\n",
       "    </tr>\n",
       "    <tr>\n",
       "      <th>5</th>\n",
       "      <td>5</td>\n",
       "      <td>189182271</td>\n",
       "      <td>2018-10-24</td>\n",
       "      <td>RAPE 3</td>\n",
       "      <td>RAPE</td>\n",
       "      <td>PL 1302503</td>\n",
       "      <td>F</td>\n",
       "      <td>45-64</td>\n",
       "      <td>M</td>\n",
       "      <td>WHITE HISPANIC</td>\n",
       "      <td>40.716196</td>\n",
       "      <td>-73.997491</td>\n",
       "      <td>M</td>\n",
       "      <td>5</td>\n",
       "      <td>0.0</td>\n",
       "      <td>70.0</td>\n",
       "      <td>4.0</td>\n",
       "      <td>32.0</td>\n",
       "      <td>2.0</td>\n",
       "    </tr>\n",
       "    <tr>\n",
       "      <th>6</th>\n",
       "      <td>6</td>\n",
       "      <td>196324211</td>\n",
       "      <td>2019-04-23</td>\n",
       "      <td>RAPE 1</td>\n",
       "      <td>RAPE</td>\n",
       "      <td>PL 1303501</td>\n",
       "      <td>F</td>\n",
       "      <td>45-64</td>\n",
       "      <td>M</td>\n",
       "      <td>BLACK HISPANIC</td>\n",
       "      <td>40.674583</td>\n",
       "      <td>-73.930222</td>\n",
       "      <td>K</td>\n",
       "      <td>77</td>\n",
       "      <td>0.0</td>\n",
       "      <td>16.0</td>\n",
       "      <td>2.0</td>\n",
       "      <td>49.0</td>\n",
       "      <td>49.0</td>\n",
       "    </tr>\n",
       "    <tr>\n",
       "      <th>7</th>\n",
       "      <td>7</td>\n",
       "      <td>196785901</td>\n",
       "      <td>2019-05-04</td>\n",
       "      <td>SEXUAL ABUSE 3,2</td>\n",
       "      <td>SEX CRIMES</td>\n",
       "      <td>PL 13052A1</td>\n",
       "      <td>M</td>\n",
       "      <td>25-44</td>\n",
       "      <td>M</td>\n",
       "      <td>BLACK</td>\n",
       "      <td>40.883383</td>\n",
       "      <td>-73.902333</td>\n",
       "      <td>B</td>\n",
       "      <td>50</td>\n",
       "      <td>0.0</td>\n",
       "      <td>48.0</td>\n",
       "      <td>5.0</td>\n",
       "      <td>40.0</td>\n",
       "      <td>33.0</td>\n",
       "    </tr>\n",
       "    <tr>\n",
       "      <th>8</th>\n",
       "      <td>8</td>\n",
       "      <td>197554056</td>\n",
       "      <td>2019-05-23</td>\n",
       "      <td>SEXUAL ABUSE 3,2</td>\n",
       "      <td>SEX CRIMES</td>\n",
       "      <td>PL 13052A1</td>\n",
       "      <td>M</td>\n",
       "      <td>45-64</td>\n",
       "      <td>F</td>\n",
       "      <td>BLACK</td>\n",
       "      <td>40.814850</td>\n",
       "      <td>-73.956682</td>\n",
       "      <td>M</td>\n",
       "      <td>26</td>\n",
       "      <td>0.0</td>\n",
       "      <td>37.0</td>\n",
       "      <td>4.0</td>\n",
       "      <td>23.0</td>\n",
       "      <td>17.0</td>\n",
       "    </tr>\n",
       "    <tr>\n",
       "      <th>9</th>\n",
       "      <td>9</td>\n",
       "      <td>189129210</td>\n",
       "      <td>2018-10-23</td>\n",
       "      <td>ASSAULT 3</td>\n",
       "      <td>ASSAULT 3 &amp; RELATED OFFENSES</td>\n",
       "      <td>PL 1200000</td>\n",
       "      <td>M</td>\n",
       "      <td>25-44</td>\n",
       "      <td>M</td>\n",
       "      <td>WHITE HISPANIC</td>\n",
       "      <td>40.764434</td>\n",
       "      <td>-73.988266</td>\n",
       "      <td>M</td>\n",
       "      <td>18</td>\n",
       "      <td>0.0</td>\n",
       "      <td>12.0</td>\n",
       "      <td>4.0</td>\n",
       "      <td>10.0</td>\n",
       "      <td>10.0</td>\n",
       "    </tr>\n",
       "  </tbody>\n",
       "</table>\n",
       "</div>"
      ],
      "text/plain": [
       "   Unnamed: 0  arrest_key arrest_date  \\\n",
       "0           0   192799737  2019-01-26   \n",
       "1           1   193260691  2019-02-06   \n",
       "2           2   149117452  2016-01-06   \n",
       "3           3   190049060  2018-11-15   \n",
       "4           4    24288194  2006-09-13   \n",
       "5           5   189182271  2018-10-24   \n",
       "6           6   196324211  2019-04-23   \n",
       "7           7   196785901  2019-05-04   \n",
       "8           8   197554056  2019-05-23   \n",
       "9           9   189129210  2018-10-23   \n",
       "\n",
       "                                   pd_desc                       ofns_desc  \\\n",
       "0                             SEXUAL ABUSE                      SEX CRIMES   \n",
       "1  CRIMINAL SALE OF A CONTROLLED SUBSTANCE  CONTROLLED SUBSTANCES OFFENSES   \n",
       "2                                   RAPE 3                            RAPE   \n",
       "3                                   RAPE 1                            RAPE   \n",
       "4                     TRESPASS 3, CRIMINAL               CRIMINAL TRESPASS   \n",
       "5                                   RAPE 3                            RAPE   \n",
       "6                                   RAPE 1                            RAPE   \n",
       "7                         SEXUAL ABUSE 3,2                      SEX CRIMES   \n",
       "8                         SEXUAL ABUSE 3,2                      SEX CRIMES   \n",
       "9                                ASSAULT 3    ASSAULT 3 & RELATED OFFENSES   \n",
       "\n",
       "     law_code law_cat_cd age_group perp_sex       perp_race   latitude  \\\n",
       "0  PL 1306503          F     45-64        M           BLACK  40.800694   \n",
       "1  PL 2203400          F     25-44        M         UNKNOWN  40.757839   \n",
       "2  PL 1302503          F     25-44        M           BLACK  40.648650   \n",
       "3  PL 1303501          F     25-44        M           BLACK  40.674583   \n",
       "4  PL 140100E          M     45-64        M           BLACK  40.671254   \n",
       "5  PL 1302503          F     45-64        M  WHITE HISPANIC  40.716196   \n",
       "6  PL 1303501          F     45-64        M  BLACK HISPANIC  40.674583   \n",
       "7  PL 13052A1          M     25-44        M           BLACK  40.883383   \n",
       "8  PL 13052A1          M     45-64        F           BLACK  40.814850   \n",
       "9  PL 1200000          M     25-44        M  WHITE HISPANIC  40.764434   \n",
       "\n",
       "   longitude arrest_boro  arrest_precinct  jurisdiction_code  \\\n",
       "0 -73.941109           M               25                0.0   \n",
       "1 -73.991212           M               14                0.0   \n",
       "2 -73.950336           K               67                0.0   \n",
       "3 -73.930222           K               77                0.0   \n",
       "4 -73.926714           K               77                2.0   \n",
       "5 -73.997491           M                5                0.0   \n",
       "6 -73.930222           K               77                0.0   \n",
       "7 -73.902333           B               50                0.0   \n",
       "8 -73.956682           M               26                0.0   \n",
       "9 -73.988266           M               18                0.0   \n",
       "\n",
       "   :@computed_region_f5dn_yrer  :@computed_region_yeji_bk3q  \\\n",
       "0                          7.0                          4.0   \n",
       "1                         12.0                          4.0   \n",
       "2                         61.0                          2.0   \n",
       "3                         16.0                          2.0   \n",
       "4                         16.0                          2.0   \n",
       "5                         70.0                          4.0   \n",
       "6                         16.0                          2.0   \n",
       "7                         48.0                          5.0   \n",
       "8                         37.0                          4.0   \n",
       "9                         12.0                          4.0   \n",
       "\n",
       "   :@computed_region_92fq_4b7q  :@computed_region_sbqj_enih  \n",
       "0                         36.0                         16.0  \n",
       "1                         10.0                          8.0  \n",
       "2                         11.0                         40.0  \n",
       "3                         49.0                         49.0  \n",
       "4                         49.0                         49.0  \n",
       "5                         32.0                          2.0  \n",
       "6                         49.0                         49.0  \n",
       "7                         40.0                         33.0  \n",
       "8                         23.0                         17.0  \n",
       "9                         10.0                         10.0  "
      ]
     },
     "execution_count": 11,
     "metadata": {},
     "output_type": "execute_result"
    }
   ],
   "source": [
    "crime_data.head(10)"
   ]
  },
  {
   "cell_type": "markdown",
   "metadata": {},
   "source": [
    "Looking at the dataset, you can identify columns like Unnamed: 0, which may not have any useful information.\n"
   ]
  },
  {
   "cell_type": "markdown",
   "metadata": {
    "id": "c8JK4DoXxtFA"
   },
   "source": [
    "**Programmatic Inspection:**\n",
    "\n",
    "You can also inspect the column names programmatically to see if there are columns that might not be relevant for analysis.\n"
   ]
  },
  {
   "cell_type": "code",
   "execution_count": 12,
   "metadata": {},
   "outputs": [
    {
     "data": {
      "text/plain": [
       "Index(['Unnamed: 0', 'arrest_key', 'arrest_date', 'pd_desc', 'ofns_desc',\n",
       "       'law_code', 'law_cat_cd', 'age_group', 'perp_sex', 'perp_race',\n",
       "       'latitude', 'longitude', 'arrest_boro', 'arrest_precinct',\n",
       "       'jurisdiction_code', ':@computed_region_f5dn_yrer',\n",
       "       ':@computed_region_yeji_bk3q', ':@computed_region_92fq_4b7q',\n",
       "       ':@computed_region_sbqj_enih'],\n",
       "      dtype='object')"
      ]
     },
     "execution_count": 12,
     "metadata": {},
     "output_type": "execute_result"
    }
   ],
   "source": [
    "crime_data.columns"
   ]
  },
  {
   "cell_type": "markdown",
   "metadata": {},
   "source": [
    "\n",
    "**Issue and Justification:**\n",
    "\n",
    "Issue: The column Unnamed: 0 appears to be an index column that is automatically generated during data import and doesn't contribute meaningful information. Keeping this column can clutter the dataset and may introduce unnecessary complexity in further analysis.\n",
    "\n",
    "Justification: These unnecessary columns do not provide any value for analysis and can clutter the dataset.\n",
    " \n",
    "**Recommendations:**\n",
    "\n",
    "Drop the unnecessary columns (like Unnamed: 0) to clean up the dataset, making it easier to focus on relevant data."
   ]
  },
  {
   "cell_type": "code",
   "execution_count": 13,
   "metadata": {},
   "outputs": [],
   "source": [
    "crime_data.drop(columns=['Unnamed: 0'], inplace=True)"
   ]
  },
  {
   "cell_type": "markdown",
   "metadata": {},
   "source": [
    "**Summary:**\n",
    "Tidiness Issue 1: Multiple variables stored in a single column (e.g., pd_desc and ofns_desc), which can be fixed by splitting these columns into more meaningful separate columns.\n",
    "Tidiness Issue 2: Unnecessary columns (e.g., Unnamed: 0) that do not contribute meaningful data should be removed to make the dataset more streamlined and easier to work with"
   ]
  },
  {
   "cell_type": "markdown",
   "metadata": {
    "id": "D6gmLnBttpCh"
   },
   "source": [
    "## 3. Clean data\n",
    "\n"
   ]
  },
  {
   "cell_type": "markdown",
   "metadata": {},
   "source": [
    "**1. Make copies of the datasets to ensure the raw dataframes are not impacted**"
   ]
  },
  {
   "cell_type": "code",
   "execution_count": 14,
   "metadata": {},
   "outputs": [
    {
     "name": "stdout",
     "output_type": "stream",
     "text": [
      "   arrest_key arrest_date                                  pd_desc  \\\n",
      "0   192799737  2019-01-26                             SEXUAL ABUSE   \n",
      "1   193260691  2019-02-06  CRIMINAL SALE OF A CONTROLLED SUBSTANCE   \n",
      "2   149117452  2016-01-06                                   RAPE 3   \n",
      "3   190049060  2018-11-15                                   RAPE 1   \n",
      "4    24288194  2006-09-13                     TRESPASS 3, CRIMINAL   \n",
      "\n",
      "                        ofns_desc    law_code law_cat_cd age_group perp_sex  \\\n",
      "0                      SEX CRIMES  PL 1306503          F     45-64        M   \n",
      "1  CONTROLLED SUBSTANCES OFFENSES  PL 2203400          F     25-44        M   \n",
      "2                            RAPE  PL 1302503          F     25-44        M   \n",
      "3                            RAPE  PL 1303501          F     25-44        M   \n",
      "4               CRIMINAL TRESPASS  PL 140100E          M     45-64        M   \n",
      "\n",
      "  perp_race   latitude  longitude arrest_boro  arrest_precinct  \\\n",
      "0     BLACK  40.800694 -73.941109           M               25   \n",
      "1   UNKNOWN  40.757839 -73.991212           M               14   \n",
      "2     BLACK  40.648650 -73.950336           K               67   \n",
      "3     BLACK  40.674583 -73.930222           K               77   \n",
      "4     BLACK  40.671254 -73.926714           K               77   \n",
      "\n",
      "   jurisdiction_code  :@computed_region_f5dn_yrer  \\\n",
      "0                0.0                          7.0   \n",
      "1                0.0                         12.0   \n",
      "2                0.0                         61.0   \n",
      "3                0.0                         16.0   \n",
      "4                2.0                         16.0   \n",
      "\n",
      "   :@computed_region_yeji_bk3q  :@computed_region_92fq_4b7q  \\\n",
      "0                          4.0                         36.0   \n",
      "1                          4.0                         10.0   \n",
      "2                          2.0                         11.0   \n",
      "3                          2.0                         49.0   \n",
      "4                          2.0                         49.0   \n",
      "\n",
      "   :@computed_region_sbqj_enih  \n",
      "0                         16.0  \n",
      "1                          8.0  \n",
      "2                         40.0  \n",
      "3                         49.0  \n",
      "4                         49.0  \n",
      "                                            the_geom objectid         name  \\\n",
      "0  {'type': 'Point', 'coordinates': [-73.84720052...        1    Wakefield   \n",
      "1  {'type': 'Point', 'coordinates': [-73.82993910...        2   Co-op City   \n",
      "2  {'type': 'Point', 'coordinates': [-73.82780644...        3  Eastchester   \n",
      "3  {'type': 'Point', 'coordinates': [-73.90564259...        4    Fieldston   \n",
      "4  {'type': 'Point', 'coordinates': [-73.91258546...        5    Riverdale   \n",
      "\n",
      "  stacked    annoline1 annoline2 annoline3 annoangle borough  \n",
      "0       1    Wakefield                           0.0   Bronx  \n",
      "1       2        Co-op      City                 0.0   Bronx  \n",
      "2       1  Eastchester                           0.0   Bronx  \n",
      "3       1    Fieldston                           0.0   Bronx  \n",
      "4       1    Riverdale                           0.0   Bronx  \n"
     ]
    }
   ],
   "source": [
    "crime_data_cleaned = crime_data.copy()\n",
    "nyc_socio_econ_data_cleaned = nyc_socio_econ_data.copy()\n",
    "\n",
    "print(crime_data_cleaned.head())  \n",
    "print(nyc_socio_econ_data_cleaned.head())  "
   ]
  },
  {
   "cell_type": "markdown",
   "metadata": {
    "id": "FmFhN52Yyn3l"
   },
   "source": [
    "### **Quality Issue 1: Missing Values in the Crime Dataset**"
   ]
  },
  {
   "cell_type": "markdown",
   "metadata": {},
   "source": [
    "***Cleaning Strategy for Missing Values:***\n",
    "\n",
    "Check for Missing Values: First, I will examine the dataset to identify any missing values in the crime_data_cleaned dataset.\n",
    "\n",
    "Handle Missing Values:\n",
    "\n",
    "For Numerical Columns: If columns like latitude or longitude have missing values, we can fill them with the mean or median of that column. This ensures that we don’t lose valuable information.\n",
    "For Categorical Columns: If columns like borough or perp_sex have missing values, we can fill them with the mode (most frequent value) to avoid adding bias.\n",
    "Alternatively: We could remove rows with missing values if they are too many or critical for analysis.\n",
    "Validate the Cleaning: After applying the strategy, we will check again for missing values to confirm that they have been handled."
   ]
  },
  {
   "cell_type": "code",
   "execution_count": 15,
   "metadata": {
    "id": "9UejDWrNMW4a"
   },
   "outputs": [
    {
     "name": "stdout",
     "output_type": "stream",
     "text": [
      "Index(['arrest_key', 'arrest_date', 'pd_desc', 'ofns_desc', 'law_code',\n",
      "       'law_cat_cd', 'age_group', 'perp_sex', 'perp_race', 'latitude',\n",
      "       'longitude', 'arrest_boro', 'arrest_precinct', 'jurisdiction_code',\n",
      "       ':@computed_region_f5dn_yrer', ':@computed_region_yeji_bk3q',\n",
      "       ':@computed_region_92fq_4b7q', ':@computed_region_sbqj_enih'],\n",
      "      dtype='object')\n"
     ]
    }
   ],
   "source": [
    "# Check the column names of the crime dataset\n",
    "print(crime_data_cleaned.columns)\n",
    "\n"
   ]
  },
  {
   "cell_type": "code",
   "execution_count": 16,
   "metadata": {},
   "outputs": [
    {
     "name": "stdout",
     "output_type": "stream",
     "text": [
      "arrest_key                         0\n",
      "arrest_date                        0\n",
      "pd_desc                            0\n",
      "ofns_desc                          0\n",
      "law_code                           0\n",
      "law_cat_cd                     13360\n",
      "age_group                          0\n",
      "perp_sex                           0\n",
      "perp_race                          0\n",
      "latitude                           0\n",
      "longitude                          0\n",
      "arrest_boro                        0\n",
      "arrest_precinct                    0\n",
      "jurisdiction_code                  0\n",
      ":@computed_region_f5dn_yrer     5976\n",
      ":@computed_region_yeji_bk3q     5980\n",
      ":@computed_region_92fq_4b7q     5976\n",
      ":@computed_region_sbqj_enih     5977\n",
      "dtype: int64\n"
     ]
    }
   ],
   "source": [
    "# Fill missing values for 'arrest_boro' with the mode (most frequent value)\n",
    "crime_data_cleaned['arrest_boro'] = crime_data_cleaned['arrest_boro'].fillna(crime_data_cleaned['arrest_boro'].mode()[0])\n",
    "\n",
    "# Fill missing values for 'perp_sex' with the mode (most frequent value)\n",
    "crime_data_cleaned['perp_sex'] = crime_data_cleaned['perp_sex'].fillna(crime_data_cleaned['perp_sex'].mode()[0])\n",
    "\n",
    "# Fill missing values for numeric columns 'latitude' and 'longitude' with the median\n",
    "crime_data_cleaned['latitude'] = crime_data_cleaned['latitude'].fillna(crime_data_cleaned['latitude'].median())\n",
    "crime_data_cleaned['longitude'] = crime_data_cleaned['longitude'].fillna(crime_data_cleaned['longitude'].median())\n",
    "\n",
    "# Step 3: Validate the cleaning by checking for missing values again\n",
    "print(crime_data_cleaned.isnull().sum())\n"
   ]
  },
  {
   "cell_type": "markdown",
   "metadata": {
    "id": "oUBee-LPytkv"
   },
   "source": [
    "***Validate the cleaning was successful***\n",
    "\n",
    "**Step 1:**  Check for missing values again\n"
   ]
  },
  {
   "cell_type": "code",
   "execution_count": 17,
   "metadata": {},
   "outputs": [
    {
     "name": "stdout",
     "output_type": "stream",
     "text": [
      "Missing values after cleaning:\n",
      "arrest_key                         0\n",
      "arrest_date                        0\n",
      "pd_desc                            0\n",
      "ofns_desc                          0\n",
      "law_code                           0\n",
      "law_cat_cd                     13360\n",
      "age_group                          0\n",
      "perp_sex                           0\n",
      "perp_race                          0\n",
      "latitude                           0\n",
      "longitude                          0\n",
      "arrest_boro                        0\n",
      "arrest_precinct                    0\n",
      "jurisdiction_code                  0\n",
      ":@computed_region_f5dn_yrer     5976\n",
      ":@computed_region_yeji_bk3q     5980\n",
      ":@computed_region_92fq_4b7q     5976\n",
      ":@computed_region_sbqj_enih     5977\n",
      "dtype: int64\n"
     ]
    }
   ],
   "source": [
    "# Check if there are any missing values after cleaning\n",
    "missing_values_after_cleaning = crime_data_cleaned.isnull().sum()\n",
    "\n",
    "# Display the missing values count after cleaning\n",
    "print(\"Missing values after cleaning:\")\n",
    "print(missing_values_after_cleaning)\n"
   ]
  },
  {
   "cell_type": "markdown",
   "metadata": {},
   "source": [
    "\n",
    "**It seems that even after the cleaning, there are still missing values in the law_cat_cd, :@computed_region_*, and potentially other columns that you did not fill previously.**\n"
   ]
  },
  {
   "cell_type": "code",
   "execution_count": 18,
   "metadata": {},
   "outputs": [
    {
     "name": "stdout",
     "output_type": "stream",
     "text": [
      "Missing values after second cleaning:\n",
      "arrest_key                     0\n",
      "arrest_date                    0\n",
      "pd_desc                        0\n",
      "ofns_desc                      0\n",
      "law_code                       0\n",
      "law_cat_cd                     0\n",
      "age_group                      0\n",
      "perp_sex                       0\n",
      "perp_race                      0\n",
      "latitude                       0\n",
      "longitude                      0\n",
      "arrest_boro                    0\n",
      "arrest_precinct                0\n",
      "jurisdiction_code              0\n",
      ":@computed_region_f5dn_yrer    0\n",
      ":@computed_region_yeji_bk3q    0\n",
      ":@computed_region_92fq_4b7q    0\n",
      ":@computed_region_sbqj_enih    0\n",
      "dtype: int64\n"
     ]
    }
   ],
   "source": [
    "# Fill missing values in the 'law_cat_cd' column with the mode (most frequent value)\n",
    "crime_data_cleaned['law_cat_cd'] = crime_data_cleaned['law_cat_cd'].fillna(crime_data_cleaned['law_cat_cd'].mode()[0])\n",
    "\n",
    "# Fill missing values in the regional columns with the mode (most frequent value)\n",
    "regional_columns = [\n",
    "    ':@computed_region_f5dn_yrer', \n",
    "    ':@computed_region_yeji_bk3q', \n",
    "    ':@computed_region_92fq_4b7q', \n",
    "    ':@computed_region_sbqj_enih'\n",
    "]\n",
    "\n",
    "for column in regional_columns:\n",
    "    crime_data_cleaned[column] = crime_data_cleaned[column].fillna(crime_data_cleaned[column].mode()[0])\n",
    "\n",
    "# Check again for missing values\n",
    "missing_values_after_cleaning = crime_data_cleaned.isnull().sum()\n",
    "\n",
    "# Display the missing values count after the second cleaning step\n",
    "print(\"Missing values after second cleaning:\")\n",
    "print(missing_values_after_cleaning)\n"
   ]
  },
  {
   "cell_type": "markdown",
   "metadata": {},
   "source": [
    "***The cleaning process was successful, and there are no missing values left in the dataset.***"
   ]
  },
  {
   "cell_type": "markdown",
   "metadata": {},
   "source": [
    "\n",
    "**Justification:**\n",
    "\n",
    "The missing values were handled using appropriate strategies:\n",
    "\n",
    "***Numerical columns***\n",
    "\n",
    "such as latitude and longitude were filled with the median, which is a robust approach for numerical data as it is less affected by outliers compared to the mean.\n",
    "\n",
    "***Categorical columns***\n",
    "\n",
    "such as law_cat_cd and arrest_boro were filled with the mode, the most frequent value, which ensures that the missing values are replaced with the most common category in those columns."
   ]
  },
  {
   "cell_type": "markdown",
   "metadata": {
    "id": "n_DAUbJrymBL"
   },
   "source": [
    "### **Quality Issue 2: Duplicate Rows in the Crime Dataset\n",
    "\n",
    "**Apply the cleaning strategy:**\n",
    "\n",
    "To address duplicate rows in the crime dataset, the strategy is to identify and remove any exact duplicate rows. This ensures that the dataset does not contain redundant information, which could affect the accuracy of analysis and models. I will use the drop_duplicates() method in Pandas to remove duplicates.\n",
    "\n",
    "\n",
    "\n"
   ]
  },
  {
   "cell_type": "code",
   "execution_count": 19,
   "metadata": {},
   "outputs": [],
   "source": [
    "\n",
    "# Remove duplicate rows\n",
    "crime_data_cleaned = crime_data_cleaned.drop_duplicates()\n"
   ]
  },
  {
   "cell_type": "markdown",
   "metadata": {},
   "source": [
    "**Validate the cleaning was successful:**\n",
    "\n",
    "After removing duplicates, I will check the number of rows in the dataset before and after cleaning to ensure that the duplicates were effectively removed. Additionally, I can verify that the remaining rows are unique by comparing the number of rows before and after cleaning.\n"
   ]
  },
  {
   "cell_type": "code",
   "execution_count": 20,
   "metadata": {
    "id": "5Yfb-Yu5MTuE"
   },
   "outputs": [
    {
     "name": "stdout",
     "output_type": "stream",
     "text": [
      "Number of rows before cleaning: 3881989\n",
      "Number of rows after cleaning: 3881989\n"
     ]
    }
   ],
   "source": [
    "\n",
    "# Validate the cleaning by comparing row counts\n",
    "print(f\"Number of rows before cleaning: {len(crime_data)}\")\n",
    "print(f\"Number of rows after cleaning: {len(crime_data_cleaned)}\")\n",
    "\n"
   ]
  },
  {
   "cell_type": "markdown",
   "metadata": {},
   "source": [
    "**Justification:**\n",
    "\n",
    "The absence of a change in the number of rows after applying the drop_duplicates() method suggests that the dataset did not contain any exact duplicate rows. If duplicates had existed, they would have been removed, and the number of rows would have decreased accordingly. Ensuring a dataset is free from duplicates is important because redundant data can skew analysis results and negatively impact model performance. In this case, the dataset is already clean with respect to duplicates, maintaining its integrity for further analysis.\n",
    "\n",
    "\n",
    "\n",
    "\n",
    "\n",
    "\n"
   ]
  },
  {
   "cell_type": "markdown",
   "metadata": {
    "id": "bIUrrfSNyOPR"
   },
   "source": [
    "### **Tidiness Issue 1: Column with Multiple Variables in the Crime Dataset**\n",
    "\n",
    "**Apply the cleaning strategy:**\n",
    "\n",
    "To address this, I applied the following cleaning strategy:\n",
    "\n",
    "Splitting Columns: The arrest_boro column was split into two separate columns: borough and precinct. This allowed each variable to be represented in its own column, aligning the dataset with tidy data principles. Each column now contains only one variable, making the data cleaner and more structured.\n",
    "\n",
    "Handling Inconsistent Data: For rows where the arrest_boro column did not contain a hyphen, indicating missing information about the precinct, the precinct column was filled with \"Unknown\" (or NaN if preferred). This ensures that no data is lost and that the structure remains consistent.\n",
    "\n",
    "Improved Analysis and Modeling: By splitting the column, the data is now easier to filter, aggregate, and analyze. For instance, you can easily calculate crime rates per precinct or analyze trends by borough. The dataset is now in a form that is ready for statistical analysis or machine learning models.\n"
   ]
  },
  {
   "cell_type": "code",
   "execution_count": 21,
   "metadata": {},
   "outputs": [
    {
     "name": "stdout",
     "output_type": "stream",
     "text": [
      "Number of columns after split: 1\n",
      "  arrest_boro borough precinct\n",
      "0           M       M  Unknown\n",
      "1           M       M  Unknown\n",
      "2           K       K  Unknown\n",
      "3           K       K  Unknown\n",
      "4           K       K  Unknown\n",
      "Index(['arrest_key', 'arrest_date', 'pd_desc', 'ofns_desc', 'law_code',\n",
      "       'law_cat_cd', 'age_group', 'perp_sex', 'perp_race', 'latitude',\n",
      "       'longitude', 'arrest_boro', 'arrest_precinct', 'jurisdiction_code',\n",
      "       ':@computed_region_f5dn_yrer', ':@computed_region_yeji_bk3q',\n",
      "       ':@computed_region_92fq_4b7q', ':@computed_region_sbqj_enih', 'borough',\n",
      "       'precinct'],\n",
      "      dtype='object')\n",
      "   arrest_key arrest_date                                  pd_desc  \\\n",
      "0   192799737  2019-01-26                             SEXUAL ABUSE   \n",
      "1   193260691  2019-02-06  CRIMINAL SALE OF A CONTROLLED SUBSTANCE   \n",
      "2   149117452  2016-01-06                                   RAPE 3   \n",
      "3   190049060  2018-11-15                                   RAPE 1   \n",
      "4    24288194  2006-09-13                     TRESPASS 3, CRIMINAL   \n",
      "\n",
      "                        ofns_desc    law_code law_cat_cd age_group perp_sex  \\\n",
      "0                      SEX CRIMES  PL 1306503          F     45-64        M   \n",
      "1  CONTROLLED SUBSTANCES OFFENSES  PL 2203400          F     25-44        M   \n",
      "2                            RAPE  PL 1302503          F     25-44        M   \n",
      "3                            RAPE  PL 1303501          F     25-44        M   \n",
      "4               CRIMINAL TRESPASS  PL 140100E          M     45-64        M   \n",
      "\n",
      "  perp_race   latitude  longitude arrest_boro  arrest_precinct  \\\n",
      "0     BLACK  40.800694 -73.941109           M               25   \n",
      "1   UNKNOWN  40.757839 -73.991212           M               14   \n",
      "2     BLACK  40.648650 -73.950336           K               67   \n",
      "3     BLACK  40.674583 -73.930222           K               77   \n",
      "4     BLACK  40.671254 -73.926714           K               77   \n",
      "\n",
      "   jurisdiction_code  :@computed_region_f5dn_yrer  \\\n",
      "0                0.0                          7.0   \n",
      "1                0.0                         12.0   \n",
      "2                0.0                         61.0   \n",
      "3                0.0                         16.0   \n",
      "4                2.0                         16.0   \n",
      "\n",
      "   :@computed_region_yeji_bk3q  :@computed_region_92fq_4b7q  \\\n",
      "0                          4.0                         36.0   \n",
      "1                          4.0                         10.0   \n",
      "2                          2.0                         11.0   \n",
      "3                          2.0                         49.0   \n",
      "4                          2.0                         49.0   \n",
      "\n",
      "   :@computed_region_sbqj_enih borough precinct  \n",
      "0                         16.0       M  Unknown  \n",
      "1                          8.0       M  Unknown  \n",
      "2                         40.0       K  Unknown  \n",
      "3                         49.0       K  Unknown  \n",
      "4                         49.0       K  Unknown  \n"
     ]
    }
   ],
   "source": [
    "# Perform the split operation first\n",
    "split_boro = crime_data_cleaned['arrest_boro'].str.split('-', expand=True)\n",
    "\n",
    "# Check the number of columns created after splitting\n",
    "print(f\"Number of columns after split: {split_boro.shape[1]}\")\n",
    "\n",
    "# If there are two columns (i.e., 'borough' and 'precinct'), assign them\n",
    "if split_boro.shape[1] == 2:\n",
    "    crime_data_cleaned[['borough', 'precinct']] = split_boro\n",
    "else:\n",
    "    # Otherwise, fill 'borough' and 'precinct' with default values\n",
    "    crime_data_cleaned['borough'] = split_boro[0]\n",
    "    crime_data_cleaned['precinct'] = 'Unknown'  # Or use NaN if you prefer\n",
    "\n",
    "# Inspect the result\n",
    "print(crime_data_cleaned[['arrest_boro', 'borough', 'precinct']].head())\n",
    "\n",
    "# Validate the column names and inspect the data\n",
    "print(crime_data_cleaned.columns)\n",
    "print(crime_data_cleaned.head())\n"
   ]
  },
  {
   "cell_type": "markdown",
   "metadata": {
    "id": "fib0zAm333bn"
   },
   "source": [
    "\n",
    "**Validate the cleaning was successful:**\n",
    "\n",
    "Check the Number of Columns: After splitting the arrest_boro column into two separate columns (borough and precinct), I inspected the total number of columns in the dataset to ensure that the cleaning process increased the column count as expected. This ensures that the split operation was applied correctly.\n",
    "\n",
    "Inspect the Data: I printed out a few rows from the dataset to check that the borough and precinct columns were correctly populated. This allowed me to verify that each variable was placed into its corresponding column. Specifically, I checked whether rows with missing or malformed data in the arrest_boro column were appropriately handled by filling the precinct column with \"Unknown.\"\n",
    "\n",
    "Verify Column Names: I checked the column names to ensure that there were no duplicates and that the newly created columns (borough and precinct) were added correctly, without overwriting any existing columns.\n",
    "\n",
    "Consistency Check: I ran additional checks to ensure that all values in the borough and precinct columns adhered to expected formats. This step helped identify any potential data integrity issues or inconsistencies.."
   ]
  },
  {
   "cell_type": "code",
   "execution_count": 22,
   "metadata": {
    "id": "yhrnUGY_Nk8B"
   },
   "outputs": [
    {
     "name": "stdout",
     "output_type": "stream",
     "text": [
      "Index(['arrest_key', 'arrest_date', 'pd_desc', 'ofns_desc', 'law_code',\n",
      "       'law_cat_cd', 'age_group', 'perp_sex', 'perp_race', 'latitude',\n",
      "       'longitude', 'arrest_boro', 'arrest_precinct', 'jurisdiction_code',\n",
      "       ':@computed_region_f5dn_yrer', ':@computed_region_yeji_bk3q',\n",
      "       ':@computed_region_92fq_4b7q', ':@computed_region_sbqj_enih', 'borough',\n",
      "       'precinct'],\n",
      "      dtype='object')\n",
      "   arrest_key arrest_date                                  pd_desc  \\\n",
      "0   192799737  2019-01-26                             SEXUAL ABUSE   \n",
      "1   193260691  2019-02-06  CRIMINAL SALE OF A CONTROLLED SUBSTANCE   \n",
      "2   149117452  2016-01-06                                   RAPE 3   \n",
      "3   190049060  2018-11-15                                   RAPE 1   \n",
      "4    24288194  2006-09-13                     TRESPASS 3, CRIMINAL   \n",
      "\n",
      "                        ofns_desc    law_code law_cat_cd age_group perp_sex  \\\n",
      "0                      SEX CRIMES  PL 1306503          F     45-64        M   \n",
      "1  CONTROLLED SUBSTANCES OFFENSES  PL 2203400          F     25-44        M   \n",
      "2                            RAPE  PL 1302503          F     25-44        M   \n",
      "3                            RAPE  PL 1303501          F     25-44        M   \n",
      "4               CRIMINAL TRESPASS  PL 140100E          M     45-64        M   \n",
      "\n",
      "  perp_race   latitude  longitude arrest_boro  arrest_precinct  \\\n",
      "0     BLACK  40.800694 -73.941109           M               25   \n",
      "1   UNKNOWN  40.757839 -73.991212           M               14   \n",
      "2     BLACK  40.648650 -73.950336           K               67   \n",
      "3     BLACK  40.674583 -73.930222           K               77   \n",
      "4     BLACK  40.671254 -73.926714           K               77   \n",
      "\n",
      "   jurisdiction_code  :@computed_region_f5dn_yrer  \\\n",
      "0                0.0                          7.0   \n",
      "1                0.0                         12.0   \n",
      "2                0.0                         61.0   \n",
      "3                0.0                         16.0   \n",
      "4                2.0                         16.0   \n",
      "\n",
      "   :@computed_region_yeji_bk3q  :@computed_region_92fq_4b7q  \\\n",
      "0                          4.0                         36.0   \n",
      "1                          4.0                         10.0   \n",
      "2                          2.0                         11.0   \n",
      "3                          2.0                         49.0   \n",
      "4                          2.0                         49.0   \n",
      "\n",
      "   :@computed_region_sbqj_enih borough precinct  \n",
      "0                         16.0       M  Unknown  \n",
      "1                          8.0       M  Unknown  \n",
      "2                         40.0       K  Unknown  \n",
      "3                         49.0       K  Unknown  \n",
      "4                         49.0       K  Unknown  \n"
     ]
    }
   ],
   "source": [
    "\n",
    "# Validate by checking the column names and inspecting the data\n",
    "print(crime_data_cleaned.columns)\n",
    "print(crime_data_cleaned.head())"
   ]
  },
  {
   "cell_type": "markdown",
   "metadata": {},
   "source": [
    "\n",
    "**Justification:**\n",
    "\n",
    "Tidiness in data refers to a structure where each variable is represented by a single column and each observation by a single row. The original crime dataset had a column (arrest_boro) that combined multiple variables (borough and precinct) into a single field. This structure violated the principle of tidy data, where each column should represent one variable. Having multiple variables in a single column makes the data harder to analyze, visualize, and model"
   ]
  },
  {
   "cell_type": "markdown",
   "metadata": {
    "id": "o51Bt8kwyTzk"
   },
   "source": [
    "### **Tidiness Issue 2: missing or incomplete data**"
   ]
  },
  {
   "cell_type": "code",
   "execution_count": 23,
   "metadata": {
    "id": "7zW8O5yx4Y9O"
   },
   "outputs": [
    {
     "name": "stdout",
     "output_type": "stream",
     "text": [
      "arrest_key                     0\n",
      "arrest_date                    0\n",
      "pd_desc                        0\n",
      "ofns_desc                      0\n",
      "law_code                       0\n",
      "law_cat_cd                     0\n",
      "age_group                      0\n",
      "perp_sex                       0\n",
      "perp_race                      0\n",
      "latitude                       0\n",
      "longitude                      0\n",
      "arrest_boro                    0\n",
      "arrest_precinct                0\n",
      "jurisdiction_code              0\n",
      ":@computed_region_f5dn_yrer    0\n",
      ":@computed_region_yeji_bk3q    0\n",
      ":@computed_region_92fq_4b7q    0\n",
      ":@computed_region_sbqj_enih    0\n",
      "borough                        0\n",
      "precinct                       0\n",
      "dtype: int64\n",
      "   arrest_key arrest_date                                  pd_desc  \\\n",
      "0   192799737  2019-01-26                             SEXUAL ABUSE   \n",
      "1   193260691  2019-02-06  CRIMINAL SALE OF A CONTROLLED SUBSTANCE   \n",
      "2   149117452  2016-01-06                                   RAPE 3   \n",
      "3   190049060  2018-11-15                                   RAPE 1   \n",
      "4    24288194  2006-09-13                     TRESPASS 3, CRIMINAL   \n",
      "\n",
      "                        ofns_desc    law_code law_cat_cd age_group perp_sex  \\\n",
      "0                      SEX CRIMES  PL 1306503          F     45-64        M   \n",
      "1  CONTROLLED SUBSTANCES OFFENSES  PL 2203400          F     25-44        M   \n",
      "2                            RAPE  PL 1302503          F     25-44        M   \n",
      "3                            RAPE  PL 1303501          F     25-44        M   \n",
      "4               CRIMINAL TRESPASS  PL 140100E          M     45-64        M   \n",
      "\n",
      "  perp_race   latitude  longitude arrest_boro  arrest_precinct  \\\n",
      "0     BLACK  40.800694 -73.941109           M               25   \n",
      "1   UNKNOWN  40.757839 -73.991212           M               14   \n",
      "2     BLACK  40.648650 -73.950336           K               67   \n",
      "3     BLACK  40.674583 -73.930222           K               77   \n",
      "4     BLACK  40.671254 -73.926714           K               77   \n",
      "\n",
      "   jurisdiction_code  :@computed_region_f5dn_yrer  \\\n",
      "0                0.0                          7.0   \n",
      "1                0.0                         12.0   \n",
      "2                0.0                         61.0   \n",
      "3                0.0                         16.0   \n",
      "4                2.0                         16.0   \n",
      "\n",
      "   :@computed_region_yeji_bk3q  :@computed_region_92fq_4b7q  \\\n",
      "0                          4.0                         36.0   \n",
      "1                          4.0                         10.0   \n",
      "2                          2.0                         11.0   \n",
      "3                          2.0                         49.0   \n",
      "4                          2.0                         49.0   \n",
      "\n",
      "   :@computed_region_sbqj_enih borough precinct  \n",
      "0                         16.0       M  Unknown  \n",
      "1                          8.0       M  Unknown  \n",
      "2                         40.0       K  Unknown  \n",
      "3                         49.0       K  Unknown  \n",
      "4                         49.0       K  Unknown  \n"
     ]
    }
   ],
   "source": [
    "#Cleaning strategy\n",
    "# Fill missing precinct values with 'Unknown' and assign back to the column\n",
    "crime_data_cleaned['precinct'] = crime_data_cleaned['precinct'].fillna('Unknown')\n",
    "\n",
    "# Fill missing borough values with 'Unknown' and assign back to the column\n",
    "crime_data_cleaned['borough'] = crime_data_cleaned['borough'].fillna('Unknown')\n",
    "\n",
    "# Fill any other missing data with 'Unknown'\n",
    "crime_data_cleaned = crime_data_cleaned.fillna('Unknown')\n",
    "\n",
    "# Check for any remaining missing data\n",
    "print(crime_data_cleaned.isnull().sum())\n",
    "\n",
    "# Inspect the first few rows to ensure the cleaning was successful\n",
    "print(crime_data_cleaned.head())\n"
   ]
  },
  {
   "cell_type": "code",
   "execution_count": 24,
   "metadata": {
    "id": "q6I_Sr7lxXi5"
   },
   "outputs": [
    {
     "name": "stdout",
     "output_type": "stream",
     "text": [
      "arrest_key                     0\n",
      "arrest_date                    0\n",
      "pd_desc                        0\n",
      "ofns_desc                      0\n",
      "law_code                       0\n",
      "law_cat_cd                     0\n",
      "age_group                      0\n",
      "perp_sex                       0\n",
      "perp_race                      0\n",
      "latitude                       0\n",
      "longitude                      0\n",
      "arrest_boro                    0\n",
      "arrest_precinct                0\n",
      "jurisdiction_code              0\n",
      ":@computed_region_f5dn_yrer    0\n",
      ":@computed_region_yeji_bk3q    0\n",
      ":@computed_region_92fq_4b7q    0\n",
      ":@computed_region_sbqj_enih    0\n",
      "borough                        0\n",
      "precinct                       0\n",
      "dtype: int64\n",
      "   arrest_key arrest_date                                  pd_desc  \\\n",
      "0   192799737  2019-01-26                             SEXUAL ABUSE   \n",
      "1   193260691  2019-02-06  CRIMINAL SALE OF A CONTROLLED SUBSTANCE   \n",
      "2   149117452  2016-01-06                                   RAPE 3   \n",
      "3   190049060  2018-11-15                                   RAPE 1   \n",
      "4    24288194  2006-09-13                     TRESPASS 3, CRIMINAL   \n",
      "\n",
      "                        ofns_desc    law_code law_cat_cd age_group perp_sex  \\\n",
      "0                      SEX CRIMES  PL 1306503          F     45-64        M   \n",
      "1  CONTROLLED SUBSTANCES OFFENSES  PL 2203400          F     25-44        M   \n",
      "2                            RAPE  PL 1302503          F     25-44        M   \n",
      "3                            RAPE  PL 1303501          F     25-44        M   \n",
      "4               CRIMINAL TRESPASS  PL 140100E          M     45-64        M   \n",
      "\n",
      "  perp_race   latitude  longitude arrest_boro  arrest_precinct  \\\n",
      "0     BLACK  40.800694 -73.941109           M               25   \n",
      "1   UNKNOWN  40.757839 -73.991212           M               14   \n",
      "2     BLACK  40.648650 -73.950336           K               67   \n",
      "3     BLACK  40.674583 -73.930222           K               77   \n",
      "4     BLACK  40.671254 -73.926714           K               77   \n",
      "\n",
      "   jurisdiction_code  :@computed_region_f5dn_yrer  \\\n",
      "0                0.0                          7.0   \n",
      "1                0.0                         12.0   \n",
      "2                0.0                         61.0   \n",
      "3                0.0                         16.0   \n",
      "4                2.0                         16.0   \n",
      "\n",
      "   :@computed_region_yeji_bk3q  :@computed_region_92fq_4b7q  \\\n",
      "0                          4.0                         36.0   \n",
      "1                          4.0                         10.0   \n",
      "2                          2.0                         11.0   \n",
      "3                          2.0                         49.0   \n",
      "4                          2.0                         49.0   \n",
      "\n",
      "   :@computed_region_sbqj_enih borough precinct  \n",
      "0                         16.0       M  Unknown  \n",
      "1                          8.0       M  Unknown  \n",
      "2                         40.0       K  Unknown  \n",
      "3                         49.0       K  Unknown  \n",
      "4                         49.0       K  Unknown  \n"
     ]
    }
   ],
   "source": [
    "## Validate the cleaning was successful\n",
    "# Check for any missing data after filling\n",
    "print(crime_data_cleaned.isnull().sum())\n",
    "\n",
    "# Inspect the first few rows to ensure the missing values were correctly handled\n",
    "print(crime_data_cleaned.head())"
   ]
  },
  {
   "cell_type": "markdown",
   "metadata": {},
   "source": [
    "\n",
    "**Justification:**\n",
    "\n",
    "Tidiness Issue: Missing or incomplete data often results in unreliable analysis, especially when certain fields are critical for grouping or filtering.\n",
    "Cleaning Strategy Justification: Filling in missing values with 'Unknown' ensures that the dataset remains complete and consistent. This prevents errors in downstream analyses and allows for smooth processing of the data. Using placeholders like 'Unknown' is an appropriate solution when the missing values cannot be directly inferred or when they don't affect the overall analysis."
   ]
  },
  {
   "cell_type": "markdown",
   "metadata": {},
   "source": [
    "### **Remove unnecessary variables and combine datasets**\n",
    "\n",
    "Depending on the datasets, you can also peform the combination before the cleaning steps."
   ]
  },
  {
   "cell_type": "code",
   "execution_count": 25,
   "metadata": {},
   "outputs": [
    {
     "name": "stdout",
     "output_type": "stream",
     "text": [
      "Index(['arrest_key', 'arrest_date', 'pd_desc', 'ofns_desc', 'law_code',\n",
      "       'law_cat_cd', 'age_group', 'perp_sex', 'perp_race', 'latitude',\n",
      "       'longitude', 'arrest_boro', 'arrest_precinct', 'jurisdiction_code',\n",
      "       ':@computed_region_f5dn_yrer', ':@computed_region_yeji_bk3q',\n",
      "       ':@computed_region_92fq_4b7q', ':@computed_region_sbqj_enih', 'borough',\n",
      "       'precinct'],\n",
      "      dtype='object')\n",
      "Index(['the_geom', 'objectid', 'name', 'stacked', 'annoline1', 'annoline2',\n",
      "       'annoline3', 'annoangle', 'borough'],\n",
      "      dtype='object')\n"
     ]
    }
   ],
   "source": [
    "\n",
    "# Check the column names of both datasets\n",
    "print(crime_data_cleaned.columns)\n",
    "print(nyc_socio_econ_data_cleaned.columns)\n",
    "\n",
    "\n"
   ]
  },
  {
   "cell_type": "code",
   "execution_count": 26,
   "metadata": {},
   "outputs": [
    {
     "name": "stdout",
     "output_type": "stream",
     "text": [
      "['M' 'K' 'B' 'Q' 'S']\n",
      "['Bronx' 'Manhattan' 'Brooklyn' 'Queens' 'Staten Island']\n"
     ]
    }
   ],
   "source": [
    "# Check unique values in the 'borough' column for both datasets\n",
    "print(crime_data_cleaned['borough'].unique())\n",
    "print(nyc_socio_econ_data_cleaned['borough'].unique())\n"
   ]
  },
  {
   "cell_type": "code",
   "execution_count": 27,
   "metadata": {},
   "outputs": [],
   "source": [
    "# Convert 'borough' to string if necessary\n",
    "crime_data_cleaned['borough'] = crime_data_cleaned['borough'].astype(str)\n",
    "nyc_socio_econ_data_cleaned['borough'] = nyc_socio_econ_data_cleaned['borough'].astype(str)\n"
   ]
  },
  {
   "cell_type": "code",
   "execution_count": 34,
   "metadata": {},
   "outputs": [
    {
     "name": "stdout",
     "output_type": "stream",
     "text": [
      "Index(['arrest_key', 'arrest_date', 'pd_desc', 'ofns_desc', 'law_code',\n",
      "       'law_cat_cd', 'age_group', 'perp_sex', 'perp_race', 'latitude',\n",
      "       'longitude', 'arrest_boro', 'arrest_precinct', 'jurisdiction_code',\n",
      "       'borough', 'precinct'],\n",
      "      dtype='object')\n"
     ]
    }
   ],
   "source": [
    "print(crime_data_cleaned.columns)\n"
   ]
  },
  {
   "cell_type": "code",
   "execution_count": 29,
   "metadata": {},
   "outputs": [],
   "source": [
    "columns_to_drop = [':@computed_region_f5dn_yrer', ':@computed_region_yeji_bk3q', \n",
    "                   ':@computed_region_92fq_4b7q', ':@computed_region_sbqj_enih']\n",
    "crime_data_cleaned = crime_data_cleaned.drop(columns=columns_to_drop, errors='ignore')\n"
   ]
  },
  {
   "cell_type": "code",
   "execution_count": 47,
   "metadata": {},
   "outputs": [],
   "source": [
    "# Merge the datasets based on a common column \n",
    "combined_data = pd.merge(crime_data_cleaned, nyc_socio_econ_data_cleaned, on='borough', how='inner') \n"
   ]
  },
  {
   "cell_type": "code",
   "execution_count": 48,
   "metadata": {},
   "outputs": [
    {
     "name": "stdout",
     "output_type": "stream",
     "text": [
      "0\n",
      "0\n"
     ]
    }
   ],
   "source": [
    "# Check for missing values in the 'borough' column\n",
    "print(crime_data_cleaned['borough'].isnull().sum())\n",
    "print(nyc_socio_econ_data_cleaned['borough'].isnull().sum())\n"
   ]
  },
  {
   "cell_type": "markdown",
   "metadata": {
    "id": "F42urHuzttjF"
   },
   "source": [
    "## 4. Update your data store\n",
    "Update your local database/data store with the cleaned data, following best practices for storing your cleaned data:\n",
    "\n",
    "- Must maintain different instances / versions of data (raw and cleaned data)\n",
    "- Must name the dataset files informatively\n",
    "- Ensure both the raw and cleaned data is saved to your database/data store"
   ]
  },
  {
   "cell_type": "code",
   "execution_count": 42,
   "metadata": {
    "id": "V3uay7EJUV_L"
   },
   "outputs": [
    {
     "name": "stdout",
     "output_type": "stream",
     "text": [
      "Data saved successfully!\n"
     ]
    }
   ],
   "source": [
    "#save data\n",
    "# Save the raw datasets with proper file names and extension\n",
    "crime_data.to_csv('crime_data.csv', index=False)\n",
    "nyc_socio_econ_data.to_csv('nyc_socio_econ_data.csv', index=False)\n",
    "\n",
    "# Save the cleaned datasets with proper file names and extension\n",
    "crime_data_cleaned.to_csv('crime_data_cleaned.csv', index=False)\n",
    "nyc_socio_econ_data_cleaned.to_csv('nyc_socio_econ_data_cleaned.csv', index=False)\n",
    "\n",
    "# Save the combined dataset with proper file name and extension\n",
    "combined_data.to_csv('combined_data.csv', index=False)\n",
    "\n",
    "print(\"Data saved successfully!\")\n"
   ]
  },
  {
   "cell_type": "markdown",
   "metadata": {
    "id": "cGy_yddGtzhM"
   },
   "source": [
    "## 5. Answer the research question\n",
    "\n",
    "### **5.1:** Define and answer the research question \n"
   ]
  },
  {
   "cell_type": "markdown",
   "metadata": {
    "id": "gjedE4s4ZkEd"
   },
   "source": [
    "**Research question:** Which borough in New York City has the highest nuةmber of arrests?"
   ]
  },
  {
   "cell_type": "code",
   "execution_count": 45,
   "metadata": {},
   "outputs": [
    {
     "name": "stdout",
     "output_type": "stream",
     "text": [
      "Index(['arrest_key', 'arrest_date', 'pd_desc', 'ofns_desc', 'law_code',\n",
      "       'law_cat_cd', 'age_group', 'perp_sex', 'perp_race', 'latitude',\n",
      "       'longitude', 'arrest_boro', 'arrest_precinct', 'jurisdiction_code',\n",
      "       'borough', 'precinct', 'the_geom', 'objectid', 'name', 'stacked',\n",
      "       'annoline1', 'annoline2', 'annoline3', 'annoangle'],\n",
      "      dtype='object')\n"
     ]
    }
   ],
   "source": [
    "# Check column names of the combined dataset\n",
    "print(combined_data.columns)\n"
   ]
  },
  {
   "cell_type": "code",
   "execution_count": 35,
   "metadata": {
    "id": "Lkw3rW9kZmOm"
   },
   "outputs": [
    {
     "data": {
      "image/png": "[encoded data removed]",
      "text/plain": [
       "<Figure size 1200x600 with 1 Axes>"
      ]
     },
     "metadata": {},
     "output_type": "display_data"
    }
   ],
   "source": [
    "#Visual 1 \n",
    "import pandas as pd\n",
    "import matplotlib.pyplot as plt\n",
    "import seaborn as sns\n",
    "\n",
    "# Filter the data to include only the four boroughs (Brooklyn, Manhattan, Queens, Staten Island)\n",
    "boroughs_of_interest = ['K', 'M', 'Q', 'S']\n",
    "filtered_data = combined_data[combined_data['borough'].isin(boroughs_of_interest)]\n",
    "\n",
    "# Plot the number of arrests by borough (only for the selected boroughs)\n",
    "plt.figure(figsize=(12, 6))\n",
    "sns.countplot(x='borough', data=filtered_data, palette='Blues')\n",
    "plt.title('Number of Arrests by Borough')\n",
    "plt.xlabel('Borough')\n",
    "plt.ylabel('Number of Arrests')\n",
    "plt.xticks(rotation=45)\n",
    "plt.show()\n",
    "\n",
    "\n",
    "\n",
    "\n",
    "\n",
    "\n"
   ]
  },
  {
   "cell_type": "markdown",
   "metadata": {},
   "source": [
    "**Answer to research question:**\n",
    "\n",
    "The boroughs with the highest number of arrests are K (Brooklyn), M (Manhattan), Q (Queens), and S (Staten Island). This visualization clearly shows that these boroughs have a higher concentration of arrests compared to others"
   ]
  },
  {
   "cell_type": "markdown",
   "metadata": {},
   "source": [
    "**Arrests by Borough and Offense Category:**"
   ]
  },
  {
   "cell_type": "code",
   "execution_count": 36,
   "metadata": {
    "id": "6fdK_8ZGZm9R"
   },
   "outputs": [
    {
     "data": {
      "image/png": "[encoded data removed]",
      "text/plain": [
       "<Figure size 1400x800 with 1 Axes>"
      ]
     },
     "metadata": {},
     "output_type": "display_data"
    }
   ],
   "source": [
    "import pandas as pd\n",
    "import matplotlib.pyplot as plt\n",
    "import seaborn as sns\n",
    "\n",
    "# Filter the data to include only the four boroughs (Brooklyn, Manhattan, Queens, Staten Island)\n",
    "boroughs_of_interest = ['K', 'M', 'Q', 'S']\n",
    "filtered_data = combined_data[combined_data['borough'].isin(boroughs_of_interest)]\n",
    "\n",
    "# Plot showing the number of arrests by borough and offense category (only for selected boroughs)\n",
    "plt.figure(figsize=(14, 8))\n",
    "sns.countplot(x='borough', hue='law_cat_cd', data=filtered_data, palette='Set2')\n",
    "plt.title('Number of Arrests by Borough and Offense Category')\n",
    "plt.xlabel('Borough')\n",
    "plt.ylabel('Number of Arrests')\n",
    "plt.legend(title='Offense Category')\n",
    "plt.xticks(rotation=45)\n",
    "plt.show()\n",
    "\n",
    "\n"
   ]
  },
  {
   "cell_type": "markdown",
   "metadata": {
    "id": "K5RgvMGUZoHn"
   },
   "source": [
    "**Is there a relationship between population density and the number of arrests in New York City boroughs?**"
   ]
  },
  {
   "cell_type": "code",
   "execution_count": 37,
   "metadata": {},
   "outputs": [
    {
     "name": "stdout",
     "output_type": "stream",
     "text": [
      "         borough  population_density\n",
      "0      Manhattan               72000\n",
      "1       Brooklyn               37000\n",
      "2         Queens               21000\n",
      "3          Bronx               34000\n",
      "4  Staten Island                8000\n"
     ]
    }
   ],
   "source": [
    "# Population density data for NYC boroughs (people per square mile)\n",
    "population_density_data = {\n",
    "    'borough': ['Manhattan', 'Brooklyn', 'Queens', 'Bronx', 'Staten Island'],\n",
    "    'population_density': [72000, 37000, 21000, 34000, 8000]\n",
    "}\n",
    "\n",
    "# Create a DataFrame from the dictionary\n",
    "population_density_df = pd.DataFrame(population_density_data)\n",
    "\n",
    "# Display the population density DataFrame\n",
    "print(population_density_df)\n"
   ]
  },
  {
   "cell_type": "code",
   "execution_count": 38,
   "metadata": {},
   "outputs": [
    {
     "name": "stdout",
     "output_type": "stream",
     "text": [
      "         borough  arrest_count  population_density\n",
      "0         Queens            78               21000\n",
      "1       Brooklyn            71               37000\n",
      "2  Staten Island            62                8000\n",
      "3          Bronx            49               34000\n",
      "4      Manhattan            39               72000\n"
     ]
    }
   ],
   "source": [
    "# Calculate the number of arrests per borough\n",
    "arrest_counts = combined_data['borough'].value_counts().reset_index()\n",
    "arrest_counts.columns = ['borough', 'arrest_count']\n",
    "\n",
    "# Merge with the population density DataFrame\n",
    "combined_arrest_density = pd.merge(arrest_counts, population_density_df, on='borough')\n",
    "\n",
    "# Display the merged DataFrame\n",
    "print(combined_arrest_density)\n"
   ]
  },
  {
   "cell_type": "code",
   "execution_count": 39,
   "metadata": {},
   "outputs": [
    {
     "data": {
      "image/png": "[encoded data removed]",
      "text/plain": [
       "<Figure size 1000x600 with 1 Axes>"
      ]
     },
     "metadata": {},
     "output_type": "display_data"
    }
   ],
   "source": [
    "# Create a scatter plot\n",
    "plt.figure(figsize=(10, 6))\n",
    "sns.scatterplot(x='population_density', y='arrest_count', data=combined_arrest_density, s=100, color='purple')\n",
    "plt.title('Relationship Between Population Density and Number of Arrests')\n",
    "plt.xlabel('Population Density (per sq mile)')\n",
    "plt.ylabel('Number of Arrests')\n",
    "plt.grid(True)\n",
    "plt.show()\n"
   ]
  },
  {
   "cell_type": "markdown",
   "metadata": {},
   "source": [
    "There is no clear relationship"
   ]
  },
  {
   "cell_type": "code",
   "execution_count": 40,
   "metadata": {},
   "outputs": [],
   "source": [
    "\n",
    "population_density_data = {\n",
    "    'borough': ['Manhattan', 'Brooklyn', 'Queens', 'Bronx', 'Staten Island'],\n",
    "    'population_density': [72000, 37000, 21000, 34000, 8000]\n",
    "}\n",
    "\n",
    "# \n",
    "population_density_df = pd.DataFrame(population_density_data)\n"
   ]
  },
  {
   "cell_type": "code",
   "execution_count": 41,
   "metadata": {},
   "outputs": [
    {
     "name": "stdout",
     "output_type": "stream",
     "text": [
      "         borough  arrest_count  population_density\n",
      "0         Queens            78               21000\n",
      "1       Brooklyn            71               37000\n",
      "2  Staten Island            62                8000\n",
      "3          Bronx            49               34000\n",
      "4      Manhattan            39               72000\n"
     ]
    }
   ],
   "source": [
    "\n",
    "arrest_counts = combined_data['borough'].value_counts().reset_index()\n",
    "arrest_counts.columns = ['borough', 'arrest_count']\n",
    "\n",
    "combined_arrest_density = pd.merge(arrest_counts, population_density_df, on='borough')\n",
    "\n",
    "\n",
    "print(combined_arrest_density)\n"
   ]
  },
  {
   "cell_type": "code",
   "execution_count": 42,
   "metadata": {},
   "outputs": [
    {
     "data": {
      "image/png": "[encoded data removed]",
      "text/plain": [
       "<Figure size 1000x600 with 1 Axes>"
      ]
     },
     "metadata": {},
     "output_type": "display_data"
    }
   ],
   "source": [
    "\n",
    "plt.figure(figsize=(10, 6))\n",
    "sns.scatterplot(x='population_density', y='arrest_count', data=combined_arrest_density, s=100, color='blue')\n",
    "\n",
    "for i in range(len(combined_arrest_density)):\n",
    "    plt.text(combined_arrest_density['population_density'][i],\n",
    "             combined_arrest_density['arrest_count'][i],\n",
    "             combined_arrest_density['borough'][i],\n",
    "             fontsize=12,\n",
    "             ha='right',\n",
    "             va='bottom')\n",
    "\n",
    "plt.title('Relationship Between Population Density and Number of Arrests')\n",
    "plt.xlabel('Population Density (per sq mile)')\n",
    "plt.ylabel('Number of Arrests')\n",
    "plt.grid(True)\n",
    "plt.show()\n"
   ]
  },
  {
   "cell_type": "markdown",
   "metadata": {},
   "source": [
    "** how to visualize the relationship between population density and arrest counts in New York City's five boroughs. It involves:\n",
    "\n",
    "Creating a dataset for population density in each borough.\n",
    "Calculating the number of arrests per borough.\n",
    "Merging the population density and arrest count data.\n",
    "Plotting a scatter plot to visualize the relationship.\n",
    "Labeling each point with the borough name.\n",
    "Adding titles, axis labels, and a grid for clarity."
   ]
  },
  {
   "cell_type": "markdown",
   "metadata": {
    "id": "0ezWXXZVj-TP"
   },
   "source": [
    "### **5.2:** Reflection\n",
    "In 2-4 sentences, if you had more time to complete the project, what actions would you take? For example, which data quality and structural issues would you look into further, and what research questions would you further explore?"
   ]
  },
  {
   "cell_type": "markdown",
   "metadata": {
    "id": "XB3RBDG5kFe1"
   },
   "source": [
    "*Answer:* \n",
    "If I had more time to complete the project, I would further explore the relationship between crime rates and socioeconomic factors such as income levels, education, and unemployment in each borough. I would also focus on improving the data quality by addressing any missing or inconsistent values, especially in critical columns like crime_rate and population_density. Additionally, I would investigate the potential impact of seasonal variations on crime rates and expand the analysis to include more granular data, such as time of day or specific types of crimes."
   ]
  },
  {
   "cell_type": "code",
   "execution_count": null,
   "metadata": {},
   "outputs": [],
   "source": []
  }
 ],
 "metadata": {
  "colab": {
   "provenance": []
  },
  "kernelspec": {
   "display_name": "Python 3 (ipykernel)",
   "language": "python",
   "name": "python3"
  },
  "language_info": {
   "codemirror_mode": {
    "name": "ipython",
    "version": 3
   },
   "file_extension": ".py",
   "mimetype": "text/x-python",
   "name": "python",
   "nbconvert_exporter": "python",
   "pygments_lexer": "ipython3",
   "version": "3.10.11"
  }
 },
 "nbformat": 4,
 "nbformat_minor": 1
}
